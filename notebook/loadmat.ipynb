{
 "cells": [
  {
   "cell_type": "code",
   "execution_count": 1,
   "metadata": {},
   "outputs": [],
   "source": [
    "import pandas as pd\n",
    "from scipy.io import loadmat"
   ]
  },
  {
   "cell_type": "code",
   "execution_count": 3,
   "metadata": {},
   "outputs": [],
   "source": [
    "mat = loadmat('d:\\\\datasets\\\\embedding.mat')  # 读取 MATLAB 矩阵文件"
   ]
  },
  {
   "cell_type": "code",
   "execution_count": 9,
   "metadata": {},
   "outputs": [
    {
     "name": "stdout",
     "output_type": "stream",
     "text": [
      "{'__header__': b'MATLAB 5.0 MAT-file Platform: posix, Created on: Mon Sep  4 19:33:54 2017', '__version__': '1.0', '__globals__': [], 'embedding': array([[0.19029157, 0.17152995, 0.2443249 , ..., 0.19729573, 0.18995775,\n",
      "        0.17350999],\n",
      "       [0.21594886, 0.16966593, 0.27672023, ..., 0.23185265, 0.23187986,\n",
      "        0.20065531],\n",
      "       [0.3353651 , 0.2844576 , 0.3451915 , ..., 0.32916307, 0.31412712,\n",
      "        0.32798645],\n",
      "       ...,\n",
      "       [0.38598427, 0.4298    , 0.44990847, ..., 0.39437097, 0.38292107,\n",
      "        0.4169566 ],\n",
      "       [0.34956247, 0.341998  , 0.36305866, ..., 0.34387702, 0.33385733,\n",
      "        0.348935  ],\n",
      "       [0.3909893 , 0.35843354, 0.3646773 , ..., 0.38319865, 0.3948071 ,\n",
      "        0.3939552 ]], dtype=float32)}\n"
     ]
    }
   ],
   "source": [
    "print(mat)"
   ]
  },
  {
   "cell_type": "code",
   "execution_count": 15,
   "metadata": {},
   "outputs": [
    {
     "name": "stdout",
     "output_type": "stream",
     "text": [
      "[[0.19029157 0.17152995 0.2443249  ... 0.19729573 0.18995775 0.17350999]\n",
      " [0.21594886 0.16966593 0.27672023 ... 0.23185265 0.23187986 0.20065531]\n",
      " [0.3353651  0.2844576  0.3451915  ... 0.32916307 0.31412712 0.32798645]\n",
      " ...\n",
      " [0.38598427 0.4298     0.44990847 ... 0.39437097 0.38292107 0.4169566 ]\n",
      " [0.34956247 0.341998   0.36305866 ... 0.34387702 0.33385733 0.348935  ]\n",
      " [0.3909893  0.35843354 0.3646773  ... 0.38319865 0.3948071  0.3939552 ]]\n"
     ]
    }
   ],
   "source": [
    "print(mat.get('embedding'))"
   ]
  },
  {
   "cell_type": "code",
   "execution_count": 16,
   "metadata": {},
   "outputs": [],
   "source": [
    "df = pd.DataFrame(mat.get('embedding'))  # 转换为 DataFrame"
   ]
  },
  {
   "cell_type": "code",
   "execution_count": 18,
   "metadata": {},
   "outputs": [
    {
     "name": "stdout",
     "output_type": "stream",
     "text": [
      "(5242, 100)\n"
     ]
    }
   ],
   "source": [
    "print(df.shape)"
   ]
  },
  {
   "cell_type": "code",
   "execution_count": 19,
   "metadata": {},
   "outputs": [],
   "source": [
    "df.to_csv('D:\\\\sdne-output.csv')"
   ]
  },
  {
   "cell_type": "code",
   "execution_count": null,
   "metadata": {},
   "outputs": [],
   "source": []
  }
 ],
 "metadata": {
  "kernelspec": {
   "display_name": "Python 3",
   "language": "python",
   "name": "python3"
  },
  "language_info": {
   "codemirror_mode": {
    "name": "ipython",
    "version": 3
   },
   "file_extension": ".py",
   "mimetype": "text/x-python",
   "name": "python",
   "nbconvert_exporter": "python",
   "pygments_lexer": "ipython3",
   "version": "3.6.6"
  }
 },
 "nbformat": 4,
 "nbformat_minor": 2
}
