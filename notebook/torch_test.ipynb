{
 "cells": [
  {
   "cell_type": "code",
   "execution_count": 1,
   "metadata": {},
   "outputs": [],
   "source": [
    "import numpy as np\n",
    "import pandas as pd"
   ]
  },
  {
   "cell_type": "code",
   "execution_count": 2,
   "metadata": {},
   "outputs": [],
   "source": [
    "import torch"
   ]
  },
  {
   "cell_type": "code",
   "execution_count": 3,
   "metadata": {},
   "outputs": [
    {
     "output_type": "stream",
     "name": "stdout",
     "text": "1.5.0\n"
    }
   ],
   "source": [
    "print(torch.__version__)"
   ]
  },
  {
   "cell_type": "code",
   "execution_count": 5,
   "metadata": {},
   "outputs": [
    {
     "output_type": "stream",
     "name": "stdout",
     "text": "(6, 1)\nGeForce GTX 1080 Ti\n_CudaDeviceProperties(name='GeForce GTX 1080 Ti', major=6, minor=1, total_memory=11264MB, multi_processor_count=28)\n"
    }
   ],
   "source": [
    "print(torch.cuda.get_device_capability(0))\n",
    "print(torch.cuda.get_device_name(0))\n",
    "print(torch.cuda.get_device_properties(0))"
   ]
  },
  {
   "cell_type": "code",
   "execution_count": 6,
   "metadata": {},
   "outputs": [
    {
     "output_type": "stream",
     "name": "stdout",
     "text": "Sat Jun 13 11:08:18 2020       \n+-----------------------------------------------------------------------------+\n| NVIDIA-SMI 441.22       Driver Version: 441.22       CUDA Version: 10.2     |\n|-------------------------------+----------------------+----------------------+\n| GPU  Name            TCC/WDDM | Bus-Id        Disp.A | Volatile Uncorr. ECC |\n| Fan  Temp  Perf  Pwr:Usage/Cap|         Memory-Usage | GPU-Util  Compute M. |\n|===============================+======================+======================|\n|   0  GeForce GTX 108... WDDM  | 00000000:65:00.0  On |                  N/A |\n|  0%   45C    P8    13W / 250W |    305MiB / 11264MiB |      0%      Default |\n+-------------------------------+----------------------+----------------------+\n                                                                               \n+-----------------------------------------------------------------------------+\n| Processes:                                                       GPU Memory |\n|  GPU       PID   Type   Process name                             Usage      |\n|=============================================================================|\n|    0      1288    C+G   Insufficient Permissions                   N/A      |\n|    0      2212    C+G   Insufficient Permissions                   N/A      |\n|    0      5316    C+G   ...t_cw5n1h2txyewy\\ShellExperienceHost.exe N/A      |\n|    0      6248    C+G   ...oftEdge_8wekyb3d8bbwe\\MicrosoftEdge.exe N/A      |\n|    0      8188    C+G   C:\\Windows\\explorer.exe                    N/A      |\n|    0      8536    C+G   ...5n1h2txyewy\\StartMenuExperienceHost.exe N/A      |\n|    0      9668    C+G   ...dows.Cortana_cw5n1h2txyewy\\SearchUI.exe N/A      |\n|    0     10020    C+G   Insufficient Permissions                   N/A      |\n|    0     10932    C+G   Insufficient Permissions                   N/A      |\n|    0     11192    C+G   ...hell.Experiences.TextInput.InputApp.exe N/A      |\n|    0     12400    C+G   ...x64__8wekyb3d8bbwe\\Microsoft.Photos.exe N/A      |\n|    0     14452    C+G   Insufficient Permissions                   N/A      |\n|    0     15076    C+G   Insufficient Permissions                   N/A      |\n|    0     16228    C+G   Insufficient Permissions                   N/A      |\n|    0     16852    C+G   Insufficient Permissions                   N/A      |\n|    0     18020    C+G   Insufficient Permissions                   N/A      |\n|    0     18064    C+G   Insufficient Permissions                   N/A      |\n|    0     19272    C+G   Insufficient Permissions                   N/A      |\n|    0     20528    C+G   Insufficient Permissions                   N/A      |\n|    0     20724    C+G   Insufficient Permissions                   N/A      |\n+-----------------------------------------------------------------------------+\n"
    }
   ],
   "source": [
    "!nvidia-smi"
   ]
  },
  {
   "cell_type": "code",
   "execution_count": 7,
   "metadata": {},
   "outputs": [
    {
     "output_type": "stream",
     "name": "stdout",
     "text": "|===========================================================================|\n|                  PyTorch CUDA memory summary, device ID 0                 |\n|---------------------------------------------------------------------------|\n|            CUDA OOMs: 0            |        cudaMalloc retries: 0         |\n|===========================================================================|\n|        Metric         | Cur Usage  | Peak Usage | Tot Alloc  | Tot Freed  |\n|---------------------------------------------------------------------------|\n| Allocated memory      |       0 B  |       0 B  |       0 B  |       0 B  |\n|       from large pool |       0 B  |       0 B  |       0 B  |       0 B  |\n|       from small pool |       0 B  |       0 B  |       0 B  |       0 B  |\n|---------------------------------------------------------------------------|\n| Active memory         |       0 B  |       0 B  |       0 B  |       0 B  |\n|       from large pool |       0 B  |       0 B  |       0 B  |       0 B  |\n|       from small pool |       0 B  |       0 B  |       0 B  |       0 B  |\n|---------------------------------------------------------------------------|\n| GPU reserved memory   |       0 B  |       0 B  |       0 B  |       0 B  |\n|       from large pool |       0 B  |       0 B  |       0 B  |       0 B  |\n|       from small pool |       0 B  |       0 B  |       0 B  |       0 B  |\n|---------------------------------------------------------------------------|\n| Non-releasable memory |       0 B  |       0 B  |       0 B  |       0 B  |\n|       from large pool |       0 B  |       0 B  |       0 B  |       0 B  |\n|       from small pool |       0 B  |       0 B  |       0 B  |       0 B  |\n|---------------------------------------------------------------------------|\n| Allocations           |       0    |       0    |       0    |       0    |\n|       from large pool |       0    |       0    |       0    |       0    |\n|       from small pool |       0    |       0    |       0    |       0    |\n|---------------------------------------------------------------------------|\n| Active allocs         |       0    |       0    |       0    |       0    |\n|       from large pool |       0    |       0    |       0    |       0    |\n|       from small pool |       0    |       0    |       0    |       0    |\n|---------------------------------------------------------------------------|\n| GPU reserved segments |       0    |       0    |       0    |       0    |\n|       from large pool |       0    |       0    |       0    |       0    |\n|       from small pool |       0    |       0    |       0    |       0    |\n|---------------------------------------------------------------------------|\n| Non-releasable allocs |       0    |       0    |       0    |       0    |\n|       from large pool |       0    |       0    |       0    |       0    |\n|       from small pool |       0    |       0    |       0    |       0    |\n|===========================================================================|\n\n"
    }
   ],
   "source": [
    "print(torch.cuda.memory_summary())"
   ]
  },
  {
   "cell_type": "code",
   "execution_count": 8,
   "metadata": {},
   "outputs": [
    {
     "output_type": "stream",
     "name": "stdout",
     "text": "nvcc: NVIDIA (R) Cuda compiler driver\nCopyright (c) 2005-2019 NVIDIA Corporation\nBuilt on Wed_Oct_23_19:32:27_Pacific_Daylight_Time_2019\nCuda compilation tools, release 10.2, V10.2.89\n"
    }
   ],
   "source": [
    "!nvcc --version"
   ]
  },
  {
   "cell_type": "code",
   "execution_count": 9,
   "metadata": {},
   "outputs": [
    {
     "output_type": "stream",
     "name": "stdout",
     "text": "c:\\ProgramData\\NVIDIA Corporation\\CUDA Samples\\v10.2\\bin\\win64\\Release\n"
    }
   ],
   "source": [
    "%cd \"c:\\ProgramData\\NVIDIA Corporation\\CUDA Samples\\v10.2\\bin\\win64\\Release\""
   ]
  },
  {
   "cell_type": "code",
   "execution_count": 10,
   "metadata": {},
   "outputs": [
    {
     "output_type": "execute_result",
     "data": {
      "text/plain": "'c:\\\\ProgramData\\\\NVIDIA Corporation\\\\CUDA Samples\\\\v10.2\\\\bin\\\\win64\\\\Release'"
     },
     "metadata": {},
     "execution_count": 10
    }
   ],
   "source": [
    "%pwd"
   ]
  },
  {
   "cell_type": "code",
   "execution_count": 11,
   "metadata": {},
   "outputs": [
    {
     "output_type": "stream",
     "name": "stdout",
     "text": "deviceQuery Starting...\n\n CUDA Device Query (Runtime API) version (CUDART static linking)\n\nDetected 1 CUDA Capable device(s)\n\nDevice 0: \"GeForce GTX 1080 Ti\"\n  CUDA Driver Version / Runtime Version          10.2 / 10.2\n  CUDA Capability Major/Minor version number:    6.1\n  Total amount of global memory:                 11264 MBytes (11811160064 bytes)\n  (28) Multiprocessors, (128) CUDA Cores/MP:     3584 CUDA Cores\n  GPU Max Clock rate:                            1582 MHz (1.58 GHz)\n  Memory Clock rate:                             5505 Mhz\n  Memory Bus Width:                              352-bit\n  L2 Cache Size:                                 2883584 bytes\n  Maximum Texture Dimension Size (x,y,z)         1D=(131072), 2D=(131072, 65536), 3D=(16384, 16384, 16384)\n  Maximum Layered 1D Texture Size, (num) layers  1D=(32768), 2048 layers\n  Maximum Layered 2D Texture Size, (num) layers  2D=(32768, 32768), 2048 layers\n  Total amount of constant memory:               65536 bytes\n  Total amount of shared memory per block:       49152 bytes\n  Total number of registers available per block: 65536\n  Warp size:                                     32\n  Maximum number of threads per multiprocessor:  2048\n  Maximum number of threads per block:           1024\n  Max dimension size of a thread block (x,y,z): (1024, 1024, 64)\n  Max dimension size of a grid size    (x,y,z): (2147483647, 65535, 65535)\n  Maximum memory pitch:                          2147483647 bytes\n  Texture alignment:                             512 bytes\n  Concurrent copy and kernel execution:          Yes with 2 copy engine(s)\n  Run time limit on kernels:                     Yes\n  Integrated GPU sharing Host Memory:            No\n  Support host page-locked memory mapping:       Yes\n  Alignment requirement for Surfaces:            Yes\n  Device has ECC support:                        Disabled\n  CUDA Device Driver Mode (TCC or WDDM):         WDDM (Windows Display Driver Model)\n  Device supports Unified Addressing (UVA):      Yes\n  Device supports Compute Preemption:            Yes\n  Supports Cooperative Kernel Launch:            No\n  Supports MultiDevice Co-op Kernel Launch:      No\n  Device PCI Domain ID / Bus ID / location ID:   0 / 101 / 0\n  Compute Mode:\n     < Default (multiple host threads can use ::cudaSetDevice() with device simultaneously) >\n\ndeviceQuery, CUDA Driver = CUDART, CUDA Driver Version = 10.2, CUDA Runtime Version = 10.2, NumDevs = 1\nResult = PASS\n"
    }
   ],
   "source": [
    "!deviceQuery"
   ]
  },
  {
   "cell_type": "code",
   "execution_count": null,
   "metadata": {},
   "outputs": [],
   "source": []
  }
 ],
 "metadata": {
  "language_info": {
   "codemirror_mode": {
    "name": "ipython",
    "version": 3
   },
   "file_extension": ".py",
   "mimetype": "text/x-python",
   "name": "python",
   "nbconvert_exporter": "python",
   "pygments_lexer": "ipython3",
   "version": "3.8.3-final"
  },
  "orig_nbformat": 2,
  "kernelspec": {
   "name": "python3",
   "display_name": "Python 3"
  }
 },
 "nbformat": 4,
 "nbformat_minor": 2
}