{
 "cells": [
  {
   "cell_type": "code",
   "execution_count": 3,
   "metadata": {
    "tags": []
   },
   "outputs": [
    {
     "name": "stdout",
     "output_type": "stream",
     "text": [
      "CPU times: user 26 µs, sys: 4 µs, total: 30 µs\n",
      "Wall time: 42.2 µs\n"
     ]
    }
   ],
   "source": [
    "%%time\n",
    "import os\n",
    "import numpy as np\n",
    "import pandas as pd\n",
    "# 数据预处理\n",
    "from sklearn.preprocessing import StandardScaler"
   ]
  },
  {
   "cell_type": "code",
   "execution_count": 4,
   "metadata": {},
   "outputs": [],
   "source": [
    "file_name = 'train_citrullination_1501.csv'"
   ]
  },
  {
   "cell_type": "code",
   "execution_count": 5,
   "metadata": {},
   "outputs": [],
   "source": [
    "file_path = os.path.join(os.path.abspath('datasets'), file_name)"
   ]
  },
  {
   "cell_type": "code",
   "execution_count": 7,
   "metadata": {},
   "outputs": [],
   "source": [
    "df = pd.read_csv(file_path)"
   ]
  },
  {
   "cell_type": "code",
   "execution_count": 8,
   "metadata": {},
   "outputs": [
    {
     "data": {
      "text/html": [
       "<div>\n",
       "<style scoped>\n",
       "    .dataframe tbody tr th:only-of-type {\n",
       "        vertical-align: middle;\n",
       "    }\n",
       "\n",
       "    .dataframe tbody tr th {\n",
       "        vertical-align: top;\n",
       "    }\n",
       "\n",
       "    .dataframe thead th {\n",
       "        text-align: right;\n",
       "    }\n",
       "</style>\n",
       "<table border=\"1\" class=\"dataframe\">\n",
       "  <thead>\n",
       "    <tr style=\"text-align: right;\">\n",
       "      <th></th>\n",
       "      <th>label</th>\n",
       "      <th>PseAAC1</th>\n",
       "      <th>PseAAC2</th>\n",
       "      <th>PseAAC3</th>\n",
       "      <th>PseAAC4</th>\n",
       "      <th>PseAAC5</th>\n",
       "      <th>PseAAC6</th>\n",
       "      <th>PseAAC7</th>\n",
       "      <th>PseAAC8</th>\n",
       "      <th>PseAAC9</th>\n",
       "      <th>...</th>\n",
       "      <th>AAIndex611</th>\n",
       "      <th>AAIndex612</th>\n",
       "      <th>AAIndex613</th>\n",
       "      <th>AAIndex614</th>\n",
       "      <th>AAIndex615</th>\n",
       "      <th>AAIndex616</th>\n",
       "      <th>AAIndex617</th>\n",
       "      <th>AAIndex618</th>\n",
       "      <th>AAIndex619</th>\n",
       "      <th>AAIndex620</th>\n",
       "    </tr>\n",
       "  </thead>\n",
       "  <tbody>\n",
       "    <tr>\n",
       "      <th>0</th>\n",
       "      <td>pos</td>\n",
       "      <td>0.000</td>\n",
       "      <td>1.547</td>\n",
       "      <td>3.095</td>\n",
       "      <td>3.095</td>\n",
       "      <td>0.000</td>\n",
       "      <td>0.000</td>\n",
       "      <td>0.0</td>\n",
       "      <td>0.000</td>\n",
       "      <td>6.189</td>\n",
       "      <td>...</td>\n",
       "      <td>4.6</td>\n",
       "      <td>0.01</td>\n",
       "      <td>5.0</td>\n",
       "      <td>3.89</td>\n",
       "      <td>-3.6</td>\n",
       "      <td>-1.01</td>\n",
       "      <td>6.75</td>\n",
       "      <td>3.20</td>\n",
       "      <td>5.86</td>\n",
       "      <td>0.06</td>\n",
       "    </tr>\n",
       "    <tr>\n",
       "      <th>1</th>\n",
       "      <td>pos</td>\n",
       "      <td>2.078</td>\n",
       "      <td>0.000</td>\n",
       "      <td>0.000</td>\n",
       "      <td>0.000</td>\n",
       "      <td>3.118</td>\n",
       "      <td>4.157</td>\n",
       "      <td>0.0</td>\n",
       "      <td>1.039</td>\n",
       "      <td>0.000</td>\n",
       "      <td>...</td>\n",
       "      <td>8.1</td>\n",
       "      <td>0.38</td>\n",
       "      <td>7.6</td>\n",
       "      <td>-0.67</td>\n",
       "      <td>7.3</td>\n",
       "      <td>0.31</td>\n",
       "      <td>8.63</td>\n",
       "      <td>1.79</td>\n",
       "      <td>7.99</td>\n",
       "      <td>-0.43</td>\n",
       "    </tr>\n",
       "    <tr>\n",
       "      <th>2</th>\n",
       "      <td>pos</td>\n",
       "      <td>8.860</td>\n",
       "      <td>0.000</td>\n",
       "      <td>3.544</td>\n",
       "      <td>5.316</td>\n",
       "      <td>0.000</td>\n",
       "      <td>0.000</td>\n",
       "      <td>0.0</td>\n",
       "      <td>3.544</td>\n",
       "      <td>1.772</td>\n",
       "      <td>...</td>\n",
       "      <td>8.1</td>\n",
       "      <td>0.38</td>\n",
       "      <td>7.6</td>\n",
       "      <td>-0.67</td>\n",
       "      <td>7.3</td>\n",
       "      <td>0.31</td>\n",
       "      <td>8.63</td>\n",
       "      <td>1.79</td>\n",
       "      <td>7.99</td>\n",
       "      <td>-0.43</td>\n",
       "    </tr>\n",
       "    <tr>\n",
       "      <th>3</th>\n",
       "      <td>pos</td>\n",
       "      <td>1.595</td>\n",
       "      <td>0.000</td>\n",
       "      <td>1.595</td>\n",
       "      <td>1.595</td>\n",
       "      <td>0.000</td>\n",
       "      <td>0.000</td>\n",
       "      <td>0.0</td>\n",
       "      <td>1.595</td>\n",
       "      <td>7.973</td>\n",
       "      <td>...</td>\n",
       "      <td>4.7</td>\n",
       "      <td>0.18</td>\n",
       "      <td>5.4</td>\n",
       "      <td>-1.75</td>\n",
       "      <td>5.1</td>\n",
       "      <td>0.72</td>\n",
       "      <td>6.28</td>\n",
       "      <td>2.45</td>\n",
       "      <td>4.95</td>\n",
       "      <td>0.28</td>\n",
       "    </tr>\n",
       "    <tr>\n",
       "      <th>4</th>\n",
       "      <td>pos</td>\n",
       "      <td>0.000</td>\n",
       "      <td>3.919</td>\n",
       "      <td>0.000</td>\n",
       "      <td>0.000</td>\n",
       "      <td>0.000</td>\n",
       "      <td>3.919</td>\n",
       "      <td>0.0</td>\n",
       "      <td>5.878</td>\n",
       "      <td>0.000</td>\n",
       "      <td>...</td>\n",
       "      <td>7.3</td>\n",
       "      <td>0.22</td>\n",
       "      <td>7.2</td>\n",
       "      <td>0.10</td>\n",
       "      <td>-4.1</td>\n",
       "      <td>-0.04</td>\n",
       "      <td>8.53</td>\n",
       "      <td>1.82</td>\n",
       "      <td>6.84</td>\n",
       "      <td>-0.23</td>\n",
       "    </tr>\n",
       "  </tbody>\n",
       "</table>\n",
       "<p>5 rows × 1502 columns</p>\n",
       "</div>"
      ],
      "text/plain": [
       "  label  PseAAC1  PseAAC2  PseAAC3  PseAAC4  PseAAC5  PseAAC6  PseAAC7  \\\n",
       "0   pos    0.000    1.547    3.095    3.095    0.000    0.000      0.0   \n",
       "1   pos    2.078    0.000    0.000    0.000    3.118    4.157      0.0   \n",
       "2   pos    8.860    0.000    3.544    5.316    0.000    0.000      0.0   \n",
       "3   pos    1.595    0.000    1.595    1.595    0.000    0.000      0.0   \n",
       "4   pos    0.000    3.919    0.000    0.000    0.000    3.919      0.0   \n",
       "\n",
       "   PseAAC8  PseAAC9  ...  AAIndex611  AAIndex612  AAIndex613  AAIndex614  \\\n",
       "0    0.000    6.189  ...         4.6        0.01         5.0        3.89   \n",
       "1    1.039    0.000  ...         8.1        0.38         7.6       -0.67   \n",
       "2    3.544    1.772  ...         8.1        0.38         7.6       -0.67   \n",
       "3    1.595    7.973  ...         4.7        0.18         5.4       -1.75   \n",
       "4    5.878    0.000  ...         7.3        0.22         7.2        0.10   \n",
       "\n",
       "   AAIndex615  AAIndex616  AAIndex617  AAIndex618  AAIndex619  AAIndex620  \n",
       "0        -3.6       -1.01        6.75        3.20        5.86        0.06  \n",
       "1         7.3        0.31        8.63        1.79        7.99       -0.43  \n",
       "2         7.3        0.31        8.63        1.79        7.99       -0.43  \n",
       "3         5.1        0.72        6.28        2.45        4.95        0.28  \n",
       "4        -4.1       -0.04        8.53        1.82        6.84       -0.23  \n",
       "\n",
       "[5 rows x 1502 columns]"
      ]
     },
     "execution_count": 8,
     "metadata": {},
     "output_type": "execute_result"
    }
   ],
   "source": [
    "df.head()"
   ]
  },
  {
   "cell_type": "code",
   "execution_count": 11,
   "metadata": {},
   "outputs": [],
   "source": [
    "X = df.iloc[:, 1:].values"
   ]
  },
  {
   "cell_type": "code",
   "execution_count": 14,
   "metadata": {},
   "outputs": [],
   "source": [
    "y = df.iloc[:, 0].map(lambda x: 1 if x=='pos' else 0)"
   ]
  },
  {
   "cell_type": "code",
   "execution_count": 16,
   "metadata": {},
   "outputs": [],
   "source": [
    "# 标准化\n",
    "scale = StandardScaler()"
   ]
  },
  {
   "cell_type": "code",
   "execution_count": 17,
   "metadata": {},
   "outputs": [],
   "source": [
    "X = scale.fit_transform(X)"
   ]
  },
  {
   "cell_type": "code",
   "execution_count": 20,
   "metadata": {},
   "outputs": [
    {
     "name": "stdout",
     "output_type": "stream",
     "text": [
      "\n",
      "Dataset shape:  (1577, 1501)  Number of features:  1501\n"
     ]
    },
    {
     "data": {
      "text/html": [
       "<div>\n",
       "<style scoped>\n",
       "    .dataframe tbody tr th:only-of-type {\n",
       "        vertical-align: middle;\n",
       "    }\n",
       "\n",
       "    .dataframe tbody tr th {\n",
       "        vertical-align: top;\n",
       "    }\n",
       "\n",
       "    .dataframe thead th {\n",
       "        text-align: right;\n",
       "    }\n",
       "</style>\n",
       "<table border=\"1\" class=\"dataframe\">\n",
       "  <thead>\n",
       "    <tr style=\"text-align: right;\">\n",
       "      <th></th>\n",
       "      <th>Class</th>\n",
       "      <th>Sum</th>\n",
       "    </tr>\n",
       "  </thead>\n",
       "  <tbody>\n",
       "    <tr>\n",
       "      <th>0</th>\n",
       "      <td>0</td>\n",
       "      <td>1501</td>\n",
       "    </tr>\n",
       "    <tr>\n",
       "      <th>1</th>\n",
       "      <td>1</td>\n",
       "      <td>76</td>\n",
       "    </tr>\n",
       "  </tbody>\n",
       "</table>\n",
       "</div>"
      ],
      "text/plain": [
       "   Class   Sum\n",
       "0      0  1501\n",
       "1      1    76"
      ]
     },
     "execution_count": 20,
     "metadata": {},
     "output_type": "execute_result"
    }
   ],
   "source": [
    "# 不同 Class 统计 (根据 Target 列)\n",
    "print(\"Dataset shape: \", X.shape, \" Number of features: \", X.shape[1])\n",
    "num_categories = np.unique(y).size\n",
    "sum_y = np.asarray(np.unique(y.astype(int), return_counts=True))\n",
    "df_sum_y = pd.DataFrame(sum_y.T, columns=['Class', 'Sum'], index=None)\n",
    "df_sum_y"
   ]
  },
  {
   "cell_type": "code",
   "execution_count": 34,
   "metadata": {},
   "outputs": [],
   "source": [
    "df_neg = df.loc[76:]\n",
    "df_pos = df.loc[0:75]"
   ]
  },
  {
   "cell_type": "code",
   "execution_count": 31,
   "metadata": {},
   "outputs": [],
   "source": [
    "# 负样本抽样\n",
    "df_neg_sampled = df_neg.sample(frac=0.15, replace=False, random_state=0)"
   ]
  },
  {
   "cell_type": "code",
   "execution_count": 41,
   "metadata": {},
   "outputs": [],
   "source": [
    "df_new = pd.concat([df_pos, df_neg_sampled])"
   ]
  },
  {
   "cell_type": "code",
   "execution_count": 45,
   "metadata": {},
   "outputs": [],
   "source": [
    "df_new['label'] = df_new['label'].map(lambda x: 1 if x=='pos' else 0)"
   ]
  },
  {
   "cell_type": "code",
   "execution_count": 47,
   "metadata": {},
   "outputs": [],
   "source": [
    "X_new = df_new.iloc[:, 1:].values\n",
    "y_new = df_new.iloc[:, 0].values"
   ]
  },
  {
   "cell_type": "code",
   "execution_count": 48,
   "metadata": {},
   "outputs": [],
   "source": [
    "X_new = scale.fit_transform(X_new)"
   ]
  },
  {
   "cell_type": "code",
   "execution_count": 49,
   "metadata": {},
   "outputs": [],
   "source": [
    "std_data = np.concatenate((y_new.reshape(-1, 1), X_new), axis=1)"
   ]
  },
  {
   "cell_type": "code",
   "execution_count": 51,
   "metadata": {},
   "outputs": [],
   "source": [
    "df_new_std = pd.DataFrame(data=std_data, columns=df_new.columns)"
   ]
  },
  {
   "cell_type": "code",
   "execution_count": 53,
   "metadata": {},
   "outputs": [
    {
     "name": "stdout",
     "output_type": "stream",
     "text": [
      "Dataset shape:  (301, 1501)  Number of features:  1501\n"
     ]
    },
    {
     "data": {
      "text/html": [
       "<div>\n",
       "<style scoped>\n",
       "    .dataframe tbody tr th:only-of-type {\n",
       "        vertical-align: middle;\n",
       "    }\n",
       "\n",
       "    .dataframe tbody tr th {\n",
       "        vertical-align: top;\n",
       "    }\n",
       "\n",
       "    .dataframe thead th {\n",
       "        text-align: right;\n",
       "    }\n",
       "</style>\n",
       "<table border=\"1\" class=\"dataframe\">\n",
       "  <thead>\n",
       "    <tr style=\"text-align: right;\">\n",
       "      <th></th>\n",
       "      <th>Class</th>\n",
       "      <th>Sum</th>\n",
       "    </tr>\n",
       "  </thead>\n",
       "  <tbody>\n",
       "    <tr>\n",
       "      <th>0</th>\n",
       "      <td>0</td>\n",
       "      <td>225</td>\n",
       "    </tr>\n",
       "    <tr>\n",
       "      <th>1</th>\n",
       "      <td>1</td>\n",
       "      <td>76</td>\n",
       "    </tr>\n",
       "  </tbody>\n",
       "</table>\n",
       "</div>"
      ],
      "text/plain": [
       "   Class  Sum\n",
       "0      0  225\n",
       "1      1   76"
      ]
     },
     "execution_count": 53,
     "metadata": {},
     "output_type": "execute_result"
    }
   ],
   "source": [
    "# 不同 Class 统计 (根据 Target 列)\n",
    "print(\"Dataset shape: \", df_new_std.iloc[:, 1:].shape, \" Number of features: \", len(df_new_std.columns)-1)\n",
    "num_categories = np.unique(y_new).size\n",
    "sum_y = np.asarray(np.unique(y_new.astype(int), return_counts=True))\n",
    "df_sum_y = pd.DataFrame(sum_y.T, columns=['Class', 'Sum'], index=None)\n",
    "df_sum_y"
   ]
  },
  {
   "cell_type": "code",
   "execution_count": 55,
   "metadata": {},
   "outputs": [
    {
     "name": "stdout",
     "output_type": "stream",
     "text": [
      "CPU times: user 930 ms, sys: 27.4 ms, total: 957 ms\n",
      "Wall time: 964 ms\n"
     ]
    }
   ],
   "source": [
    "# 输出到文件\n",
    "%time df_new_std.to_csv('train_citrullination_standard_1501_resampled.csv', index=False)"
   ]
  },
  {
   "cell_type": "code",
   "execution_count": null,
   "metadata": {},
   "outputs": [],
   "source": []
  }
 ],
 "metadata": {
  "kernelspec": {
   "display_name": "Python 3",
   "language": "python",
   "name": "python3"
  },
  "language_info": {
   "codemirror_mode": {
    "name": "ipython",
    "version": 3
   },
   "file_extension": ".py",
   "mimetype": "text/x-python",
   "name": "python",
   "nbconvert_exporter": "python",
   "pygments_lexer": "ipython3",
   "version": "3.7.7"
  }
 },
 "nbformat": 4,
 "nbformat_minor": 4
}
