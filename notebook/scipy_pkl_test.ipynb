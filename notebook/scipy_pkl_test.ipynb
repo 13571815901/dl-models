{
 "cells": [
  {
   "cell_type": "code",
   "execution_count": 1,
   "metadata": {},
   "outputs": [],
   "source": [
    "import numpy as np\n",
    "import scipy.sparse as sp\n",
    "import pickle as pkl\n",
    "import sys\n",
    "import pandas as pd"
   ]
  },
  {
   "cell_type": "markdown",
   "metadata": {},
   "source": [
    "###  use pkl.load() get matrix"
   ]
  },
  {
   "cell_type": "code",
   "execution_count": 2,
   "metadata": {},
   "outputs": [],
   "source": [
    "names = ['x', 'y', 'tx', 'ty', 'allx', 'ally', 'graph']\n",
    "objects = []\n",
    "for i in range(len(names)):\n",
    "    with open(\"gcn/data/ind.{}.{}\".format('cora', names[i]), 'rb') as f:\n",
    "        if sys.version_info > (3, 0):\n",
    "            objects.append(pkl.load(f, encoding='latin1'))\n",
    "        else:\n",
    "            objects.append(pkl.load(f))\n",
    "\n",
    "x, y, tx, ty, allx, ally, graph = tuple(objects)"
   ]
  },
  {
   "cell_type": "code",
   "execution_count": 21,
   "metadata": {},
   "outputs": [
    {
     "name": "stdout",
     "output_type": "stream",
     "text": [
      "  (0, 19)\t1.0\n",
      "  (0, 81)\t1.0\n",
      "  (0, 146)\t1.0\n",
      "  (0, 315)\t1.0\n",
      "  (0, 774)\t1.0\n",
      "  (0, 877)\t1.0\n",
      "  (0, 1194)\t1.0\n",
      "  (0, 1247)\t1.0\n",
      "  (0, 1274)\t1.0\n",
      "  (1, 19)\t1.0\n",
      "  (1, 88)\t1.0\n",
      "  (1, 149)\t1.0\n",
      "  (1, 212)\t1.0\n",
      "  (1, 233)\t1.0\n",
      "  (1, 332)\t1.0\n",
      "  (1, 336)\t1.0\n",
      "  (1, 359)\t1.0\n",
      "  (1, 472)\t1.0\n",
      "  (1, 507)\t1.0\n",
      "  (1, 548)\t1.0\n",
      "  (1, 687)\t1.0\n",
      "  (1, 763)\t1.0\n",
      "  (1, 808)\t1.0\n",
      "  (1, 889)\t1.0\n",
      "  (1, 1058)\t1.0\n",
      "  :\t:\n",
      "  (1706, 1236)\t1.0\n",
      "  (1706, 1242)\t1.0\n",
      "  (1706, 1320)\t1.0\n",
      "  (1706, 1337)\t1.0\n",
      "  (1707, 4)\t1.0\n",
      "  (1707, 118)\t1.0\n",
      "  (1707, 153)\t1.0\n",
      "  (1707, 180)\t1.0\n",
      "  (1707, 228)\t1.0\n",
      "  (1707, 699)\t1.0\n",
      "  (1707, 701)\t1.0\n",
      "  (1707, 719)\t1.0\n",
      "  (1707, 750)\t1.0\n",
      "  (1707, 758)\t1.0\n",
      "  (1707, 810)\t1.0\n",
      "  (1707, 911)\t1.0\n",
      "  (1707, 1177)\t1.0\n",
      "  (1707, 1233)\t1.0\n",
      "  (1707, 1251)\t1.0\n",
      "  (1707, 1257)\t1.0\n",
      "  (1707, 1262)\t1.0\n",
      "  (1707, 1299)\t1.0\n",
      "  (1707, 1325)\t1.0\n",
      "  (1707, 1386)\t1.0\n",
      "  (1707, 1397)\t1.0\n"
     ]
    }
   ],
   "source": [
    "# print(allx) # ind.cora.x"
   ]
  },
  {
   "cell_type": "code",
   "execution_count": 25,
   "metadata": {},
   "outputs": [],
   "source": [
    "# all_x_d = sp.csr_matrix(allx)"
   ]
  },
  {
   "cell_type": "code",
   "execution_count": 28,
   "metadata": {},
   "outputs": [
    {
     "name": "stdout",
     "output_type": "stream",
     "text": [
      "[[0. 0. 0. ... 0. 0. 0.]\n",
      " [0. 0. 0. ... 0. 0. 0.]\n",
      " [0. 0. 0. ... 0. 0. 0.]\n",
      " ...\n",
      " [0. 0. 0. ... 0. 0. 0.]\n",
      " [0. 0. 0. ... 0. 0. 0.]\n",
      " [0. 0. 0. ... 0. 0. 0.]]\n"
     ]
    }
   ],
   "source": [
    "# print(all_x_d.todense())"
   ]
  },
  {
   "cell_type": "code",
   "execution_count": 8,
   "metadata": {},
   "outputs": [],
   "source": [
    "all_x = sp.csr_matrix(allx)\n",
    "all_y = sp.csr_matrix(ally)"
   ]
  },
  {
   "cell_type": "code",
   "execution_count": 9,
   "metadata": {},
   "outputs": [],
   "source": [
    "df_x = pd.DataFrame(all_x.toarray())\n",
    "df_y = pd.DataFrame(all_y.toarray())"
   ]
  },
  {
   "cell_type": "code",
   "execution_count": 12,
   "metadata": {},
   "outputs": [
    {
     "name": "stdout",
     "output_type": "stream",
     "text": [
      "<class 'collections.defaultdict'>\n"
     ]
    }
   ],
   "source": [
    "print(type(graph))"
   ]
  },
  {
   "cell_type": "code",
   "execution_count": 18,
   "metadata": {},
   "outputs": [],
   "source": [
    "import json\n",
    "json.dump(graph, open('ind.cora.graph.json', 'w'))"
   ]
  },
  {
   "cell_type": "markdown",
   "metadata": {},
   "source": [
    "### labels and features matrix save to csv"
   ]
  },
  {
   "cell_type": "code",
   "execution_count": 16,
   "metadata": {},
   "outputs": [],
   "source": [
    "df_x.to_csv('ind.cora.allx.csv')\n",
    "df_y.to_csv('ind.cora.ally.csv')"
   ]
  },
  {
   "cell_type": "code",
   "execution_count": null,
   "metadata": {},
   "outputs": [],
   "source": []
  }
 ],
 "metadata": {
  "kernelspec": {
   "display_name": "Python 3",
   "language": "python",
   "name": "python3"
  },
  "language_info": {
   "codemirror_mode": {
    "name": "ipython",
    "version": 3
   },
   "file_extension": ".py",
   "mimetype": "text/x-python",
   "name": "python",
   "nbconvert_exporter": "python",
   "pygments_lexer": "ipython3",
   "version": "3.6.6"
  }
 },
 "nbformat": 4,
 "nbformat_minor": 2
}
