{
 "cells": [
  {
   "cell_type": "code",
   "execution_count": null,
   "metadata": {},
   "outputs": [],
   "source": [
    "import numpy as np\n",
    "import pandas as pd\n",
    "import matplotlib.pyplot as plt"
   ]
  },
  {
   "cell_type": "code",
   "execution_count": null,
   "metadata": {},
   "outputs": [],
   "source": [
    "import lightgbm as lgb\n",
    "import xgboost as xgb"
   ]
  },
  {
   "cell_type": "code",
   "execution_count": 10,
   "metadata": {},
   "outputs": [],
   "source": [
    "df = pd.read_csv('d:\\\\datasets\\\\train_nitration_941_standard.csv')"
   ]
  },
  {
   "cell_type": "code",
   "execution_count": 13,
   "metadata": {},
   "outputs": [
    {
     "data": {
      "text/html": [
       "<div>\n",
       "<style scoped>\n",
       "    .dataframe tbody tr th:only-of-type {\n",
       "        vertical-align: middle;\n",
       "    }\n",
       "\n",
       "    .dataframe tbody tr th {\n",
       "        vertical-align: top;\n",
       "    }\n",
       "\n",
       "    .dataframe thead th {\n",
       "        text-align: right;\n",
       "    }\n",
       "</style>\n",
       "<table border=\"1\" class=\"dataframe\">\n",
       "  <thead>\n",
       "    <tr style=\"text-align: right;\">\n",
       "      <th></th>\n",
       "      <th>Site1_Disorder</th>\n",
       "      <th>Site2_Disorder</th>\n",
       "      <th>Site3_Disorder</th>\n",
       "      <th>Site4_Disorder</th>\n",
       "      <th>Site5_Disorder</th>\n",
       "      <th>Site6_Disorder</th>\n",
       "      <th>Site7_Disorder</th>\n",
       "      <th>Site8_Disorder</th>\n",
       "      <th>Site9_Disorder</th>\n",
       "      <th>Site10_Disorder</th>\n",
       "      <th>...</th>\n",
       "      <th>Site19_AA_Factor_1</th>\n",
       "      <th>Site19_AA_Factor_2</th>\n",
       "      <th>Site19_AA_Factor_3</th>\n",
       "      <th>Site19_AA_Factor_4</th>\n",
       "      <th>Site19_AA_Factor_5</th>\n",
       "      <th>Site20_AA_Factor_1</th>\n",
       "      <th>Site20_AA_Factor_2</th>\n",
       "      <th>Site20_AA_Factor_3</th>\n",
       "      <th>Site20_AA_Factor_4</th>\n",
       "      <th>Site20_AA_Factor_5</th>\n",
       "    </tr>\n",
       "  </thead>\n",
       "  <tbody>\n",
       "    <tr>\n",
       "      <th>count</th>\n",
       "      <td>2.120000e+02</td>\n",
       "      <td>2.120000e+02</td>\n",
       "      <td>2.120000e+02</td>\n",
       "      <td>2.120000e+02</td>\n",
       "      <td>2.120000e+02</td>\n",
       "      <td>2.120000e+02</td>\n",
       "      <td>2.120000e+02</td>\n",
       "      <td>2.120000e+02</td>\n",
       "      <td>2.120000e+02</td>\n",
       "      <td>2.120000e+02</td>\n",
       "      <td>...</td>\n",
       "      <td>2.120000e+02</td>\n",
       "      <td>2.120000e+02</td>\n",
       "      <td>2.120000e+02</td>\n",
       "      <td>2.120000e+02</td>\n",
       "      <td>2.120000e+02</td>\n",
       "      <td>2.120000e+02</td>\n",
       "      <td>2.120000e+02</td>\n",
       "      <td>2.120000e+02</td>\n",
       "      <td>2.120000e+02</td>\n",
       "      <td>2.120000e+02</td>\n",
       "    </tr>\n",
       "    <tr>\n",
       "      <th>mean</th>\n",
       "      <td>-2.830189e-08</td>\n",
       "      <td>-4.716981e-09</td>\n",
       "      <td>4.245283e-08</td>\n",
       "      <td>-9.433962e-09</td>\n",
       "      <td>-4.716981e-09</td>\n",
       "      <td>-4.716981e-09</td>\n",
       "      <td>-3.773585e-08</td>\n",
       "      <td>-2.358491e-08</td>\n",
       "      <td>3.301887e-08</td>\n",
       "      <td>3.301887e-08</td>\n",
       "      <td>...</td>\n",
       "      <td>8.962264e-08</td>\n",
       "      <td>8.018868e-08</td>\n",
       "      <td>-1.320755e-07</td>\n",
       "      <td>5.188679e-08</td>\n",
       "      <td>8.490566e-08</td>\n",
       "      <td>-1.415094e-08</td>\n",
       "      <td>-4.245283e-08</td>\n",
       "      <td>-2.830189e-08</td>\n",
       "      <td>-5.660377e-08</td>\n",
       "      <td>6.132075e-08</td>\n",
       "    </tr>\n",
       "    <tr>\n",
       "      <th>std</th>\n",
       "      <td>1.002367e+00</td>\n",
       "      <td>1.002367e+00</td>\n",
       "      <td>1.002367e+00</td>\n",
       "      <td>1.002367e+00</td>\n",
       "      <td>1.002367e+00</td>\n",
       "      <td>1.002367e+00</td>\n",
       "      <td>1.002367e+00</td>\n",
       "      <td>1.002367e+00</td>\n",
       "      <td>1.002367e+00</td>\n",
       "      <td>1.002367e+00</td>\n",
       "      <td>...</td>\n",
       "      <td>1.002367e+00</td>\n",
       "      <td>1.002367e+00</td>\n",
       "      <td>1.002367e+00</td>\n",
       "      <td>1.002367e+00</td>\n",
       "      <td>1.002367e+00</td>\n",
       "      <td>1.002367e+00</td>\n",
       "      <td>1.002367e+00</td>\n",
       "      <td>1.002367e+00</td>\n",
       "      <td>1.002367e+00</td>\n",
       "      <td>1.002367e+00</td>\n",
       "    </tr>\n",
       "    <tr>\n",
       "      <th>min</th>\n",
       "      <td>-1.048764e+00</td>\n",
       "      <td>-1.040790e+00</td>\n",
       "      <td>-1.046876e+00</td>\n",
       "      <td>-1.039194e+00</td>\n",
       "      <td>-1.027104e+00</td>\n",
       "      <td>-1.015225e+00</td>\n",
       "      <td>-1.012238e+00</td>\n",
       "      <td>-1.022699e+00</td>\n",
       "      <td>-1.005243e+00</td>\n",
       "      <td>-9.863600e-01</td>\n",
       "      <td>...</td>\n",
       "      <td>-1.328619e+00</td>\n",
       "      <td>-1.469540e+00</td>\n",
       "      <td>-2.329887e+00</td>\n",
       "      <td>-3.377962e+00</td>\n",
       "      <td>-1.866422e+00</td>\n",
       "      <td>-1.330979e+00</td>\n",
       "      <td>-1.421155e+00</td>\n",
       "      <td>-2.227844e+00</td>\n",
       "      <td>-3.195273e+00</td>\n",
       "      <td>-1.858447e+00</td>\n",
       "    </tr>\n",
       "    <tr>\n",
       "      <th>25%</th>\n",
       "      <td>-7.346002e-01</td>\n",
       "      <td>-7.097902e-01</td>\n",
       "      <td>-7.331220e-01</td>\n",
       "      <td>-7.675940e-01</td>\n",
       "      <td>-7.742133e-01</td>\n",
       "      <td>-7.863960e-01</td>\n",
       "      <td>-7.920118e-01</td>\n",
       "      <td>-7.616980e-01</td>\n",
       "      <td>-7.564885e-01</td>\n",
       "      <td>-7.479025e-01</td>\n",
       "      <td>...</td>\n",
       "      <td>-1.009217e+00</td>\n",
       "      <td>-5.426050e-01</td>\n",
       "      <td>-6.603390e-01</td>\n",
       "      <td>-9.734490e-01</td>\n",
       "      <td>-6.957550e-01</td>\n",
       "      <td>-1.010915e+00</td>\n",
       "      <td>-8.797730e-01</td>\n",
       "      <td>-6.935280e-01</td>\n",
       "      <td>-8.365850e-01</td>\n",
       "      <td>-7.043090e-01</td>\n",
       "    </tr>\n",
       "    <tr>\n",
       "      <th>50%</th>\n",
       "      <td>-3.796490e-01</td>\n",
       "      <td>-3.820810e-01</td>\n",
       "      <td>-3.634845e-01</td>\n",
       "      <td>-3.815315e-01</td>\n",
       "      <td>-3.442495e-01</td>\n",
       "      <td>-3.172840e-01</td>\n",
       "      <td>-2.846985e-01</td>\n",
       "      <td>-2.907180e-01</td>\n",
       "      <td>-2.942505e-01</td>\n",
       "      <td>-3.201620e-01</td>\n",
       "      <td>...</td>\n",
       "      <td>-8.607800e-02</td>\n",
       "      <td>-2.339570e-01</td>\n",
       "      <td>-1.674240e-01</td>\n",
       "      <td>-7.416900e-02</td>\n",
       "      <td>-3.592400e-02</td>\n",
       "      <td>-2.720130e-01</td>\n",
       "      <td>-1.659950e-01</td>\n",
       "      <td>2.671280e-01</td>\n",
       "      <td>2.157900e-02</td>\n",
       "      <td>-5.379400e-02</td>\n",
       "    </tr>\n",
       "    <tr>\n",
       "      <th>75%</th>\n",
       "      <td>4.503145e-01</td>\n",
       "      <td>4.582810e-01</td>\n",
       "      <td>4.276085e-01</td>\n",
       "      <td>4.203197e-01</td>\n",
       "      <td>5.358555e-01</td>\n",
       "      <td>5.173145e-01</td>\n",
       "      <td>3.656490e-01</td>\n",
       "      <td>3.382142e-01</td>\n",
       "      <td>2.728430e-01</td>\n",
       "      <td>2.877913e-01</td>\n",
       "      <td>...</td>\n",
       "      <td>9.394210e-01</td>\n",
       "      <td>3.664660e-01</td>\n",
       "      <td>8.691830e-01</td>\n",
       "      <td>9.576230e-01</td>\n",
       "      <td>8.267050e-01</td>\n",
       "      <td>9.417630e-01</td>\n",
       "      <td>4.439430e-01</td>\n",
       "      <td>7.238870e-01</td>\n",
       "      <td>1.057686e+00</td>\n",
       "      <td>7.966540e-01</td>\n",
       "    </tr>\n",
       "    <tr>\n",
       "      <th>max</th>\n",
       "      <td>3.044463e+00</td>\n",
       "      <td>3.033987e+00</td>\n",
       "      <td>3.074937e+00</td>\n",
       "      <td>3.124782e+00</td>\n",
       "      <td>3.168620e+00</td>\n",
       "      <td>3.209226e+00</td>\n",
       "      <td>3.260604e+00</td>\n",
       "      <td>3.196756e+00</td>\n",
       "      <td>3.283854e+00</td>\n",
       "      <td>3.223320e+00</td>\n",
       "      <td>...</td>\n",
       "      <td>1.679638e+00</td>\n",
       "      <td>2.108192e+00</td>\n",
       "      <td>1.700111e+00</td>\n",
       "      <td>1.379602e+00</td>\n",
       "      <td>1.763239e+00</td>\n",
       "      <td>1.683514e+00</td>\n",
       "      <td>2.213266e+00</td>\n",
       "      <td>1.475726e+00</td>\n",
       "      <td>1.471623e+00</td>\n",
       "      <td>1.719964e+00</td>\n",
       "    </tr>\n",
       "  </tbody>\n",
       "</table>\n",
       "<p>8 rows × 941 columns</p>\n",
       "</div>"
      ],
      "text/plain": [
       "       Site1_Disorder  Site2_Disorder  Site3_Disorder  Site4_Disorder  \\\n",
       "count    2.120000e+02    2.120000e+02    2.120000e+02    2.120000e+02   \n",
       "mean    -2.830189e-08   -4.716981e-09    4.245283e-08   -9.433962e-09   \n",
       "std      1.002367e+00    1.002367e+00    1.002367e+00    1.002367e+00   \n",
       "min     -1.048764e+00   -1.040790e+00   -1.046876e+00   -1.039194e+00   \n",
       "25%     -7.346002e-01   -7.097902e-01   -7.331220e-01   -7.675940e-01   \n",
       "50%     -3.796490e-01   -3.820810e-01   -3.634845e-01   -3.815315e-01   \n",
       "75%      4.503145e-01    4.582810e-01    4.276085e-01    4.203197e-01   \n",
       "max      3.044463e+00    3.033987e+00    3.074937e+00    3.124782e+00   \n",
       "\n",
       "       Site5_Disorder  Site6_Disorder  Site7_Disorder  Site8_Disorder  \\\n",
       "count    2.120000e+02    2.120000e+02    2.120000e+02    2.120000e+02   \n",
       "mean    -4.716981e-09   -4.716981e-09   -3.773585e-08   -2.358491e-08   \n",
       "std      1.002367e+00    1.002367e+00    1.002367e+00    1.002367e+00   \n",
       "min     -1.027104e+00   -1.015225e+00   -1.012238e+00   -1.022699e+00   \n",
       "25%     -7.742133e-01   -7.863960e-01   -7.920118e-01   -7.616980e-01   \n",
       "50%     -3.442495e-01   -3.172840e-01   -2.846985e-01   -2.907180e-01   \n",
       "75%      5.358555e-01    5.173145e-01    3.656490e-01    3.382142e-01   \n",
       "max      3.168620e+00    3.209226e+00    3.260604e+00    3.196756e+00   \n",
       "\n",
       "       Site9_Disorder  Site10_Disorder  ...  Site19_AA_Factor_1  \\\n",
       "count    2.120000e+02     2.120000e+02  ...        2.120000e+02   \n",
       "mean     3.301887e-08     3.301887e-08  ...        8.962264e-08   \n",
       "std      1.002367e+00     1.002367e+00  ...        1.002367e+00   \n",
       "min     -1.005243e+00    -9.863600e-01  ...       -1.328619e+00   \n",
       "25%     -7.564885e-01    -7.479025e-01  ...       -1.009217e+00   \n",
       "50%     -2.942505e-01    -3.201620e-01  ...       -8.607800e-02   \n",
       "75%      2.728430e-01     2.877913e-01  ...        9.394210e-01   \n",
       "max      3.283854e+00     3.223320e+00  ...        1.679638e+00   \n",
       "\n",
       "       Site19_AA_Factor_2  Site19_AA_Factor_3  Site19_AA_Factor_4  \\\n",
       "count        2.120000e+02        2.120000e+02        2.120000e+02   \n",
       "mean         8.018868e-08       -1.320755e-07        5.188679e-08   \n",
       "std          1.002367e+00        1.002367e+00        1.002367e+00   \n",
       "min         -1.469540e+00       -2.329887e+00       -3.377962e+00   \n",
       "25%         -5.426050e-01       -6.603390e-01       -9.734490e-01   \n",
       "50%         -2.339570e-01       -1.674240e-01       -7.416900e-02   \n",
       "75%          3.664660e-01        8.691830e-01        9.576230e-01   \n",
       "max          2.108192e+00        1.700111e+00        1.379602e+00   \n",
       "\n",
       "       Site19_AA_Factor_5  Site20_AA_Factor_1  Site20_AA_Factor_2  \\\n",
       "count        2.120000e+02        2.120000e+02        2.120000e+02   \n",
       "mean         8.490566e-08       -1.415094e-08       -4.245283e-08   \n",
       "std          1.002367e+00        1.002367e+00        1.002367e+00   \n",
       "min         -1.866422e+00       -1.330979e+00       -1.421155e+00   \n",
       "25%         -6.957550e-01       -1.010915e+00       -8.797730e-01   \n",
       "50%         -3.592400e-02       -2.720130e-01       -1.659950e-01   \n",
       "75%          8.267050e-01        9.417630e-01        4.439430e-01   \n",
       "max          1.763239e+00        1.683514e+00        2.213266e+00   \n",
       "\n",
       "       Site20_AA_Factor_3  Site20_AA_Factor_4  Site20_AA_Factor_5  \n",
       "count        2.120000e+02        2.120000e+02        2.120000e+02  \n",
       "mean        -2.830189e-08       -5.660377e-08        6.132075e-08  \n",
       "std          1.002367e+00        1.002367e+00        1.002367e+00  \n",
       "min         -2.227844e+00       -3.195273e+00       -1.858447e+00  \n",
       "25%         -6.935280e-01       -8.365850e-01       -7.043090e-01  \n",
       "50%          2.671280e-01        2.157900e-02       -5.379400e-02  \n",
       "75%          7.238870e-01        1.057686e+00        7.966540e-01  \n",
       "max          1.475726e+00        1.471623e+00        1.719964e+00  \n",
       "\n",
       "[8 rows x 941 columns]"
      ]
     },
     "execution_count": 13,
     "metadata": {},
     "output_type": "execute_result"
    }
   ],
   "source": [
    "df.iloc[:, 1:].describe()"
   ]
  },
  {
   "cell_type": "code",
   "execution_count": 26,
   "metadata": {},
   "outputs": [],
   "source": [
    "X = df.iloc[:, 1:].values\n",
    "y = df.iloc[:, 0].values - 1"
   ]
  },
  {
   "cell_type": "code",
   "execution_count": 30,
   "metadata": {},
   "outputs": [],
   "source": [
    "# 特征名称\n",
    "f_names = df.columns[1:].values"
   ]
  },
  {
   "cell_type": "code",
   "execution_count": 14,
   "metadata": {},
   "outputs": [],
   "source": [
    "# Create the RFE object and rank each pixel\n",
    "from sklearn.feature_selection import RFE\n",
    "from sklearn.svm import SVC"
   ]
  },
  {
   "cell_type": "code",
   "execution_count": 34,
   "metadata": {},
   "outputs": [],
   "source": [
    "clf_svc = SVC(kernel='linear')"
   ]
  },
  {
   "cell_type": "code",
   "execution_count": 35,
   "metadata": {},
   "outputs": [
    {
     "data": {
      "text/plain": [
       "{'C': 1.0,\n",
       " 'cache_size': 200,\n",
       " 'class_weight': None,\n",
       " 'coef0': 0.0,\n",
       " 'decision_function_shape': 'ovr',\n",
       " 'degree': 3,\n",
       " 'gamma': 'auto_deprecated',\n",
       " 'kernel': 'linear',\n",
       " 'max_iter': -1,\n",
       " 'probability': False,\n",
       " 'random_state': None,\n",
       " 'shrinking': True,\n",
       " 'tol': 0.001,\n",
       " 'verbose': False}"
      ]
     },
     "execution_count": 35,
     "metadata": {},
     "output_type": "execute_result"
    }
   ],
   "source": [
    "clf_svc.get_params()"
   ]
  },
  {
   "cell_type": "code",
   "execution_count": 54,
   "metadata": {},
   "outputs": [],
   "source": [
    "# 递归式特征消除\n",
    "# 选择100个优先特征\n",
    "rfe = RFE(estimator=clf_svc, n_features_to_select=100, step=1, verbose=0)"
   ]
  },
  {
   "cell_type": "code",
   "execution_count": 55,
   "metadata": {},
   "outputs": [
    {
     "data": {
      "text/plain": [
       "RFE(estimator=SVC(C=1.0, cache_size=200, class_weight=None, coef0=0.0,\n",
       "                  decision_function_shape='ovr', degree=3,\n",
       "                  gamma='auto_deprecated', kernel='linear', max_iter=-1,\n",
       "                  probability=False, random_state=None, shrinking=True,\n",
       "                  tol=0.001, verbose=False),\n",
       "    n_features_to_select=100, step=1, verbose=0)"
      ]
     },
     "execution_count": 55,
     "metadata": {},
     "output_type": "execute_result"
    }
   ],
   "source": [
    "rfe"
   ]
  },
  {
   "cell_type": "code",
   "execution_count": 56,
   "metadata": {},
   "outputs": [
    {
     "data": {
      "text/plain": [
       "RFE(estimator=SVC(C=1.0, cache_size=200, class_weight=None, coef0=0.0,\n",
       "                  decision_function_shape='ovr', degree=3,\n",
       "                  gamma='auto_deprecated', kernel='linear', max_iter=-1,\n",
       "                  probability=False, random_state=None, shrinking=True,\n",
       "                  tol=0.001, verbose=False),\n",
       "    n_features_to_select=100, step=1, verbose=0)"
      ]
     },
     "execution_count": 56,
     "metadata": {},
     "output_type": "execute_result"
    }
   ],
   "source": [
    "rfe.fit(X, y)"
   ]
  },
  {
   "cell_type": "code",
   "execution_count": 57,
   "metadata": {},
   "outputs": [],
   "source": [
    "# 生成新的特征矩阵\n",
    "X_new = rfe.fit_transform(X, y)"
   ]
  },
  {
   "cell_type": "code",
   "execution_count": 58,
   "metadata": {},
   "outputs": [
    {
     "data": {
      "text/plain": [
       "(212, 100)"
      ]
     },
     "execution_count": 58,
     "metadata": {},
     "output_type": "execute_result"
    }
   ],
   "source": [
    "X_new.shape"
   ]
  },
  {
   "cell_type": "code",
   "execution_count": 86,
   "metadata": {},
   "outputs": [
    {
     "name": "stdout",
     "output_type": "stream",
     "text": [
      "[ 25  51  53  82  98 145 155 161 173 174 179 191 200 241 243 251 265 273\n",
      " 288 293 295 296 299 333 342 405 411 416 420 430 450 462 466 470 475 490\n",
      " 498 501 506 508 514 520 543 547 548 550 555 556 563 572 584 585 586 590\n",
      " 613 618 623 625 631 638 645 651 657 669 674 676 678 683 684 689 690 691\n",
      " 696 705 707 710 716 717 718 732 742 751 762 766 770 771 774 795 797 802\n",
      " 809 835 854 861 887 901 906 912 918 935]\n"
     ]
    }
   ],
   "source": [
    "# 获取选中的100个特征所在位置\n",
    "support_idxs = np.where(rfe.get_support()==True)[0]\n",
    "print(support_idxs)"
   ]
  },
  {
   "cell_type": "code",
   "execution_count": 88,
   "metadata": {},
   "outputs": [
    {
     "data": {
      "text/plain": [
       "array(['Site1_PSSM_C', 'Site2_PSSM_L', 'Site2_PSSM_M', 'Site4_PSSM_R',\n",
       "       'Site4_PSSM_W', 'Site7_PSSM_C', 'Site7_PSSM_P', 'Site8_PSSM_A',\n",
       "       'Site8_PSSM_M', 'Site8_PSSM_F', 'Site8_PSSM_Y', 'Site9_PSSM_L',\n",
       "       'Site9_PSSM_V', 'Site12_PSSM_A', 'Site12_PSSM_N', 'Site12_PSSM_L',\n",
       "       'Site13_PSSM_C', 'Site13_PSSM_M', 'Site14_PSSM_G', 'Site14_PSSM_M',\n",
       "       'Site14_PSSM_P', 'Site14_PSSM_S', 'Site14_PSSM_Y', 'Site16_PSSM_M',\n",
       "       'Site17_PSSM_R', 'Site20_PSSM_C', 'Site20_PSSM_L', 'Site20_PSSM_S',\n",
       "       'Site20_PSSM_V', 'Site21_PSSM_I', 'Site1_AA_10', 'Site2_AA_2',\n",
       "       'Site2_AA_6', 'Site2_AA_10', 'Site2_AA_15', 'Site3_AA_10',\n",
       "       'Site3_AA_18', 'Site4_AA_1', 'Site4_AA_6', 'Site4_AA_8',\n",
       "       'Site4_AA_14', 'Site4_AA_20', 'Site6_AA_3', 'Site6_AA_7',\n",
       "       'Site6_AA_8', 'Site6_AA_10', 'Site6_AA_15', 'Site6_AA_16',\n",
       "       'Site7_AA_3', 'Site7_AA_12'], dtype=object)"
      ]
     },
     "execution_count": 88,
     "metadata": {},
     "output_type": "execute_result"
    }
   ],
   "source": [
    "# 获取选中的 TOP50 特征名称\n",
    "f_names[support_idxs[:50]]"
   ]
  },
  {
   "cell_type": "markdown",
   "metadata": {},
   "source": [
    "### 构建分类器对比特征压缩前后的MCC"
   ]
  },
  {
   "cell_type": "code",
   "execution_count": 89,
   "metadata": {},
   "outputs": [],
   "source": [
    "from sklearn.ensemble import RandomForestClassifier"
   ]
  },
  {
   "cell_type": "code",
   "execution_count": 159,
   "metadata": {},
   "outputs": [],
   "source": [
    "from sklearn.model_selection import cross_val_predict\n",
    "from sklearn.metrics import accuracy_score, matthews_corrcoef, classification_report, make_scorer"
   ]
  },
  {
   "cell_type": "code",
   "execution_count": 253,
   "metadata": {},
   "outputs": [],
   "source": [
    "clf_rf = RandomForestClassifier(n_estimators=100, max_features='sqrt', random_state=23)"
   ]
  },
  {
   "cell_type": "code",
   "execution_count": 254,
   "metadata": {},
   "outputs": [
    {
     "data": {
      "text/plain": [
       "RandomForestClassifier(bootstrap=True, class_weight=None, criterion='gini',\n",
       "                       max_depth=None, max_features='sqrt', max_leaf_nodes=None,\n",
       "                       min_impurity_decrease=0.0, min_impurity_split=None,\n",
       "                       min_samples_leaf=1, min_samples_split=2,\n",
       "                       min_weight_fraction_leaf=0.0, n_estimators=100,\n",
       "                       n_jobs=None, oob_score=False, random_state=23, verbose=0,\n",
       "                       warm_start=False)"
      ]
     },
     "execution_count": 254,
     "metadata": {},
     "output_type": "execute_result"
    }
   ],
   "source": [
    "clf_rf"
   ]
  },
  {
   "cell_type": "code",
   "execution_count": 255,
   "metadata": {},
   "outputs": [
    {
     "name": "stderr",
     "output_type": "stream",
     "text": [
      "[Parallel(n_jobs=1)]: Using backend SequentialBackend with 1 concurrent workers.\n"
     ]
    },
    {
     "name": "stdout",
     "output_type": "stream",
     "text": [
      "Wall time: 694 ms\n"
     ]
    },
    {
     "name": "stderr",
     "output_type": "stream",
     "text": [
      "[Parallel(n_jobs=1)]: Done   5 out of   5 | elapsed:    0.6s finished\n"
     ]
    }
   ],
   "source": [
    "%%time\n",
    "y_pred_rf = cross_val_predict(clf_rf, X, y, cv=5, verbose=1)"
   ]
  },
  {
   "cell_type": "code",
   "execution_count": 256,
   "metadata": {},
   "outputs": [
    {
     "data": {
      "text/plain": [
       "0.2075143391598224"
      ]
     },
     "execution_count": 256,
     "metadata": {},
     "output_type": "execute_result"
    }
   ],
   "source": [
    "# 941维 MCC\n",
    "matthews_corrcoef(y, y_pred_rf)"
   ]
  },
  {
   "cell_type": "code",
   "execution_count": 245,
   "metadata": {},
   "outputs": [],
   "source": [
    "clf_rf_100 = RandomForestClassifier(n_estimators=100, max_features='sqrt', n_jobs=-1, random_state=46)"
   ]
  },
  {
   "cell_type": "code",
   "execution_count": 246,
   "metadata": {},
   "outputs": [
    {
     "name": "stderr",
     "output_type": "stream",
     "text": [
      "[Parallel(n_jobs=-1)]: Using backend LokyBackend with 4 concurrent workers.\n"
     ]
    },
    {
     "name": "stdout",
     "output_type": "stream",
     "text": [
      "Wall time: 562 ms\n"
     ]
    },
    {
     "name": "stderr",
     "output_type": "stream",
     "text": [
      "[Parallel(n_jobs=-1)]: Done   5 out of   5 | elapsed:    0.5s finished\n"
     ]
    }
   ],
   "source": [
    "%%time\n",
    "y_pred_rf_100 = cross_val_predict(clf_rf_100, X_new, y, cv=5, verbose=1, n_jobs=-1)"
   ]
  },
  {
   "cell_type": "code",
   "execution_count": 247,
   "metadata": {},
   "outputs": [
    {
     "data": {
      "text/plain": [
       "0.31066901108135797"
      ]
     },
     "execution_count": 247,
     "metadata": {},
     "output_type": "execute_result"
    }
   ],
   "source": [
    "# 100维 MCC\n",
    "matthews_corrcoef(y, y_pred_rf_100)"
   ]
  },
  {
   "cell_type": "code",
   "execution_count": 257,
   "metadata": {},
   "outputs": [],
   "source": [
    "# 基于树的特征选取\n",
    "from sklearn.feature_selection import SelectFromModel\n",
    "from sklearn.ensemble import ExtraTreesClassifier"
   ]
  },
  {
   "cell_type": "code",
   "execution_count": 258,
   "metadata": {},
   "outputs": [],
   "source": [
    "clf_ext = ExtraTreesClassifier(n_estimators=100, n_jobs=-1, max_features='sqrt')"
   ]
  },
  {
   "cell_type": "code",
   "execution_count": 259,
   "metadata": {},
   "outputs": [
    {
     "data": {
      "text/plain": [
       "ExtraTreesClassifier(bootstrap=False, class_weight=None, criterion='gini',\n",
       "                     max_depth=None, max_features='sqrt', max_leaf_nodes=None,\n",
       "                     min_impurity_decrease=0.0, min_impurity_split=None,\n",
       "                     min_samples_leaf=1, min_samples_split=2,\n",
       "                     min_weight_fraction_leaf=0.0, n_estimators=100, n_jobs=-1,\n",
       "                     oob_score=False, random_state=None, verbose=0,\n",
       "                     warm_start=False)"
      ]
     },
     "execution_count": 259,
     "metadata": {},
     "output_type": "execute_result"
    }
   ],
   "source": [
    "clf_ext.fit(X, y)"
   ]
  },
  {
   "cell_type": "code",
   "execution_count": 274,
   "metadata": {},
   "outputs": [],
   "source": [
    "# 特征选择 'prefit' 参数在分类器已完成训练好设置为 True\n",
    "model_ext = SelectFromModel(clf_ext, prefit=True, max_features=50)"
   ]
  },
  {
   "cell_type": "code",
   "execution_count": 275,
   "metadata": {},
   "outputs": [],
   "source": [
    "X_new_ext = model_ext.transform(X)"
   ]
  },
  {
   "cell_type": "code",
   "execution_count": 277,
   "metadata": {},
   "outputs": [
    {
     "data": {
      "text/plain": [
       "(212, 50)"
      ]
     },
     "execution_count": 277,
     "metadata": {},
     "output_type": "execute_result"
    }
   ],
   "source": [
    "# 选中了 TOP 50 特征\n",
    "X_new_ext.shape"
   ]
  },
  {
   "cell_type": "markdown",
   "metadata": {},
   "source": [
    "### 网格搜索最佳参数"
   ]
  },
  {
   "cell_type": "code",
   "execution_count": 136,
   "metadata": {},
   "outputs": [],
   "source": [
    "from sklearn.model_selection import GridSearchCV"
   ]
  },
  {
   "cell_type": "code",
   "execution_count": 240,
   "metadata": {},
   "outputs": [],
   "source": [
    "parameters = {'random_state':np.arange(1, 100), 'max_features':('log2', 'sqrt')}"
   ]
  },
  {
   "cell_type": "code",
   "execution_count": 278,
   "metadata": {},
   "outputs": [],
   "source": [
    "clf_rf_grid = RandomForestClassifier(n_estimators=100)"
   ]
  },
  {
   "cell_type": "code",
   "execution_count": 279,
   "metadata": {},
   "outputs": [],
   "source": [
    "clf_grid = GridSearchCV(clf_rf_grid, parameters, cv=10, verbose=1, iid=False, scoring=make_scorer(matthews_corrcoef), n_jobs=-1)"
   ]
  },
  {
   "cell_type": "code",
   "execution_count": 280,
   "metadata": {},
   "outputs": [
    {
     "name": "stdout",
     "output_type": "stream",
     "text": [
      "Fitting 10 folds for each of 98 candidates, totalling 980 fits\n"
     ]
    },
    {
     "name": "stderr",
     "output_type": "stream",
     "text": [
      "[Parallel(n_jobs=-1)]: Using backend LokyBackend with 4 concurrent workers.\n",
      "[Parallel(n_jobs=-1)]: Done  76 tasks      | elapsed:    3.2s\n",
      "[Parallel(n_jobs=-1)]: Done 376 tasks      | elapsed:   15.3s\n",
      "[Parallel(n_jobs=-1)]: Done 876 tasks      | elapsed:   36.9s\n"
     ]
    },
    {
     "name": "stdout",
     "output_type": "stream",
     "text": [
      "Wall time: 41.6 s\n"
     ]
    },
    {
     "name": "stderr",
     "output_type": "stream",
     "text": [
      "[Parallel(n_jobs=-1)]: Done 980 out of 980 | elapsed:   41.4s finished\n"
     ]
    },
    {
     "data": {
      "text/plain": [
       "GridSearchCV(cv=10, error_score='raise-deprecating',\n",
       "             estimator=RandomForestClassifier(bootstrap=True, class_weight=None,\n",
       "                                              criterion='gini', max_depth=None,\n",
       "                                              max_features='auto',\n",
       "                                              max_leaf_nodes=None,\n",
       "                                              min_impurity_decrease=0.0,\n",
       "                                              min_impurity_split=None,\n",
       "                                              min_samples_leaf=1,\n",
       "                                              min_samples_split=2,\n",
       "                                              min_weight_fraction_leaf=0.0,\n",
       "                                              n_estimators=100, n_jobs=None,\n",
       "                                              oob_score=Fals...\n",
       "                                              warm_start=False),\n",
       "             iid=False, n_jobs=-1,\n",
       "             param_grid={'max_features': ('log2', 'sqrt'),\n",
       "                         'random_state': array([ 1,  2,  3,  4,  5,  6,  7,  8,  9, 10, 11, 12, 13, 14, 15, 16, 17,\n",
       "       18, 19, 20, 21, 22, 23, 24, 25, 26, 27, 28, 29, 30, 31, 32, 33, 34,\n",
       "       35, 36, 37, 38, 39, 40, 41, 42, 43, 44, 45, 46, 47, 48, 49])},\n",
       "             pre_dispatch='2*n_jobs', refit=True, return_train_score=False,\n",
       "             scoring=make_scorer(matthews_corrcoef), verbose=1)"
      ]
     },
     "execution_count": 280,
     "metadata": {},
     "output_type": "execute_result"
    }
   ],
   "source": [
    "%%time\n",
    "# 评估极限随机树压缩后的特征矩阵效果\n",
    "clf_grid.fit(X_new_ext, y)"
   ]
  },
  {
   "cell_type": "code",
   "execution_count": 281,
   "metadata": {},
   "outputs": [
    {
     "data": {
      "text/plain": [
       "{'max_features': 'log2', 'random_state': 6}"
      ]
     },
     "execution_count": 281,
     "metadata": {},
     "output_type": "execute_result"
    }
   ],
   "source": [
    "# 最佳分类器\n",
    "# clf_grid.best_estimator_\n",
    "# clf_grid.cv_results_\n",
    "clf_grid.best_params_"
   ]
  },
  {
   "cell_type": "code",
   "execution_count": 282,
   "metadata": {},
   "outputs": [
    {
     "data": {
      "text/plain": [
       "0.4430111169968273"
      ]
     },
     "execution_count": 282,
     "metadata": {},
     "output_type": "execute_result"
    }
   ],
   "source": [
    "clf_grid.best_score_"
   ]
  },
  {
   "cell_type": "code",
   "execution_count": 283,
   "metadata": {},
   "outputs": [],
   "source": [
    "clf_rf = RandomForestClassifier(n_estimators=100, max_features='log2', random_state=6, n_jobs=-1)"
   ]
  },
  {
   "cell_type": "code",
   "execution_count": 284,
   "metadata": {},
   "outputs": [
    {
     "name": "stderr",
     "output_type": "stream",
     "text": [
      "[Parallel(n_jobs=-1)]: Using backend LokyBackend with 4 concurrent workers.\n"
     ]
    },
    {
     "name": "stdout",
     "output_type": "stream",
     "text": [
      "Wall time: 851 ms\n"
     ]
    },
    {
     "name": "stderr",
     "output_type": "stream",
     "text": [
      "[Parallel(n_jobs=-1)]: Done  10 out of  10 | elapsed:    0.7s finished\n"
     ]
    }
   ],
   "source": [
    "%%time\n",
    "y_pred_ext = cross_val_predict(clf_rf, X_new_ext, y, cv=10, verbose=1, n_jobs=-1)"
   ]
  },
  {
   "cell_type": "code",
   "execution_count": 285,
   "metadata": {},
   "outputs": [
    {
     "data": {
      "text/plain": [
       "0.48850865146712436"
      ]
     },
     "execution_count": 285,
     "metadata": {},
     "output_type": "execute_result"
    }
   ],
   "source": [
    "# 50-dim MCC\n",
    "matthews_corrcoef(y, y_pred_ext)"
   ]
  },
  {
   "cell_type": "code",
   "execution_count": null,
   "metadata": {},
   "outputs": [],
   "source": []
  }
 ],
 "metadata": {
  "kernelspec": {
   "display_name": "Python 3",
   "language": "python",
   "name": "python3"
  },
  "language_info": {
   "codemirror_mode": {
    "name": "ipython",
    "version": 3
   },
   "file_extension": ".py",
   "mimetype": "text/x-python",
   "name": "python",
   "nbconvert_exporter": "python",
   "pygments_lexer": "ipython3",
   "version": "3.7.4"
  }
 },
 "nbformat": 4,
 "nbformat_minor": 4
}
