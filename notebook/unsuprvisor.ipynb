{
 "cells": [
  {
   "cell_type": "code",
   "execution_count": 1,
   "metadata": {},
   "outputs": [],
   "source": [
    "import numpy as np\n",
    "import pandas as pd"
   ]
  },
  {
   "cell_type": "code",
   "execution_count": 2,
   "metadata": {},
   "outputs": [],
   "source": [
    "df = pd.read_csv('d:/datasets/train_citrullination_standard.csv')"
   ]
  },
  {
   "cell_type": "code",
   "execution_count": 3,
   "metadata": {},
   "outputs": [
    {
     "data": {
      "text/html": [
       "<div>\n",
       "<style scoped>\n",
       "    .dataframe tbody tr th:only-of-type {\n",
       "        vertical-align: middle;\n",
       "    }\n",
       "\n",
       "    .dataframe tbody tr th {\n",
       "        vertical-align: top;\n",
       "    }\n",
       "\n",
       "    .dataframe thead th {\n",
       "        text-align: right;\n",
       "    }\n",
       "</style>\n",
       "<table border=\"1\" class=\"dataframe\">\n",
       "  <thead>\n",
       "    <tr style=\"text-align: right;\">\n",
       "      <th></th>\n",
       "      <th>label</th>\n",
       "      <th>Site1_Disorder</th>\n",
       "      <th>Site2_Disorder</th>\n",
       "      <th>Site3_Disorder</th>\n",
       "      <th>Site4_Disorder</th>\n",
       "      <th>Site5_Disorder</th>\n",
       "      <th>Site6_Disorder</th>\n",
       "      <th>Site7_Disorder</th>\n",
       "      <th>Site8_Disorder</th>\n",
       "      <th>Site9_Disorder</th>\n",
       "      <th>...</th>\n",
       "      <th>Site19_AA_Factor_1</th>\n",
       "      <th>Site19_AA_Factor_2</th>\n",
       "      <th>Site19_AA_Factor_3</th>\n",
       "      <th>Site19_AA_Factor_4</th>\n",
       "      <th>Site19_AA_Factor_5</th>\n",
       "      <th>Site20_AA_Factor_1</th>\n",
       "      <th>Site20_AA_Factor_2</th>\n",
       "      <th>Site20_AA_Factor_3</th>\n",
       "      <th>Site20_AA_Factor_4</th>\n",
       "      <th>Site20_AA_Factor_5</th>\n",
       "    </tr>\n",
       "  </thead>\n",
       "  <tbody>\n",
       "    <tr>\n",
       "      <td>0</td>\n",
       "      <td>1</td>\n",
       "      <td>-1.574105</td>\n",
       "      <td>-1.514601</td>\n",
       "      <td>-1.597106</td>\n",
       "      <td>-1.600892</td>\n",
       "      <td>-1.604944</td>\n",
       "      <td>-1.570004</td>\n",
       "      <td>-1.608431</td>\n",
       "      <td>-1.764875</td>\n",
       "      <td>-1.757936</td>\n",
       "      <td>...</td>\n",
       "      <td>0.708460</td>\n",
       "      <td>0.216991</td>\n",
       "      <td>-1.649443</td>\n",
       "      <td>-0.760774</td>\n",
       "      <td>-1.882015</td>\n",
       "      <td>-1.551674</td>\n",
       "      <td>-0.276039</td>\n",
       "      <td>-0.232569</td>\n",
       "      <td>1.209068</td>\n",
       "      <td>-0.916490</td>\n",
       "    </tr>\n",
       "    <tr>\n",
       "      <td>1</td>\n",
       "      <td>1</td>\n",
       "      <td>-1.199031</td>\n",
       "      <td>-1.100420</td>\n",
       "      <td>-1.080016</td>\n",
       "      <td>-0.946437</td>\n",
       "      <td>-0.869910</td>\n",
       "      <td>-0.752354</td>\n",
       "      <td>-0.738074</td>\n",
       "      <td>-0.936399</td>\n",
       "      <td>-1.025611</td>\n",
       "      <td>...</td>\n",
       "      <td>-0.732239</td>\n",
       "      <td>1.538658</td>\n",
       "      <td>0.724248</td>\n",
       "      <td>1.017484</td>\n",
       "      <td>1.056300</td>\n",
       "      <td>-1.551674</td>\n",
       "      <td>-0.276039</td>\n",
       "      <td>-0.232569</td>\n",
       "      <td>1.209068</td>\n",
       "      <td>-0.916490</td>\n",
       "    </tr>\n",
       "    <tr>\n",
       "      <td>2</td>\n",
       "      <td>1</td>\n",
       "      <td>0.866386</td>\n",
       "      <td>0.868311</td>\n",
       "      <td>0.843122</td>\n",
       "      <td>0.844472</td>\n",
       "      <td>0.838658</td>\n",
       "      <td>0.841978</td>\n",
       "      <td>0.842559</td>\n",
       "      <td>0.814681</td>\n",
       "      <td>0.812155</td>\n",
       "      <td>...</td>\n",
       "      <td>1.198740</td>\n",
       "      <td>-0.024826</td>\n",
       "      <td>0.806132</td>\n",
       "      <td>0.192448</td>\n",
       "      <td>1.517593</td>\n",
       "      <td>-0.912756</td>\n",
       "      <td>-1.531923</td>\n",
       "      <td>1.187974</td>\n",
       "      <td>-1.824785</td>\n",
       "      <td>0.555057</td>\n",
       "    </tr>\n",
       "    <tr>\n",
       "      <td>3</td>\n",
       "      <td>1</td>\n",
       "      <td>0.666815</td>\n",
       "      <td>0.667360</td>\n",
       "      <td>0.632550</td>\n",
       "      <td>0.630111</td>\n",
       "      <td>0.624524</td>\n",
       "      <td>0.629355</td>\n",
       "      <td>0.629173</td>\n",
       "      <td>0.584872</td>\n",
       "      <td>0.584641</td>\n",
       "      <td>...</td>\n",
       "      <td>0.708460</td>\n",
       "      <td>0.216991</td>\n",
       "      <td>-1.649443</td>\n",
       "      <td>-0.760774</td>\n",
       "      <td>-1.882015</td>\n",
       "      <td>-0.314599</td>\n",
       "      <td>0.334250</td>\n",
       "      <td>1.184890</td>\n",
       "      <td>0.758108</td>\n",
       "      <td>0.615132</td>\n",
       "    </tr>\n",
       "    <tr>\n",
       "      <td>4</td>\n",
       "      <td>1</td>\n",
       "      <td>0.667489</td>\n",
       "      <td>0.667528</td>\n",
       "      <td>0.640935</td>\n",
       "      <td>0.648726</td>\n",
       "      <td>0.643517</td>\n",
       "      <td>0.652942</td>\n",
       "      <td>0.656042</td>\n",
       "      <td>0.619300</td>\n",
       "      <td>0.615132</td>\n",
       "      <td>...</td>\n",
       "      <td>-0.575510</td>\n",
       "      <td>1.290968</td>\n",
       "      <td>-2.175026</td>\n",
       "      <td>0.506098</td>\n",
       "      <td>-1.552521</td>\n",
       "      <td>-1.458775</td>\n",
       "      <td>-0.546382</td>\n",
       "      <td>1.142731</td>\n",
       "      <td>0.062766</td>\n",
       "      <td>0.319514</td>\n",
       "    </tr>\n",
       "  </tbody>\n",
       "</table>\n",
       "<p>5 rows × 942 columns</p>\n",
       "</div>"
      ],
      "text/plain": [
       "   label  Site1_Disorder  Site2_Disorder  Site3_Disorder  Site4_Disorder  \\\n",
       "0      1       -1.574105       -1.514601       -1.597106       -1.600892   \n",
       "1      1       -1.199031       -1.100420       -1.080016       -0.946437   \n",
       "2      1        0.866386        0.868311        0.843122        0.844472   \n",
       "3      1        0.666815        0.667360        0.632550        0.630111   \n",
       "4      1        0.667489        0.667528        0.640935        0.648726   \n",
       "\n",
       "   Site5_Disorder  Site6_Disorder  Site7_Disorder  Site8_Disorder  \\\n",
       "0       -1.604944       -1.570004       -1.608431       -1.764875   \n",
       "1       -0.869910       -0.752354       -0.738074       -0.936399   \n",
       "2        0.838658        0.841978        0.842559        0.814681   \n",
       "3        0.624524        0.629355        0.629173        0.584872   \n",
       "4        0.643517        0.652942        0.656042        0.619300   \n",
       "\n",
       "   Site9_Disorder  ...  Site19_AA_Factor_1  Site19_AA_Factor_2  \\\n",
       "0       -1.757936  ...            0.708460            0.216991   \n",
       "1       -1.025611  ...           -0.732239            1.538658   \n",
       "2        0.812155  ...            1.198740           -0.024826   \n",
       "3        0.584641  ...            0.708460            0.216991   \n",
       "4        0.615132  ...           -0.575510            1.290968   \n",
       "\n",
       "   Site19_AA_Factor_3  Site19_AA_Factor_4  Site19_AA_Factor_5  \\\n",
       "0           -1.649443           -0.760774           -1.882015   \n",
       "1            0.724248            1.017484            1.056300   \n",
       "2            0.806132            0.192448            1.517593   \n",
       "3           -1.649443           -0.760774           -1.882015   \n",
       "4           -2.175026            0.506098           -1.552521   \n",
       "\n",
       "   Site20_AA_Factor_1  Site20_AA_Factor_2  Site20_AA_Factor_3  \\\n",
       "0           -1.551674           -0.276039           -0.232569   \n",
       "1           -1.551674           -0.276039           -0.232569   \n",
       "2           -0.912756           -1.531923            1.187974   \n",
       "3           -0.314599            0.334250            1.184890   \n",
       "4           -1.458775           -0.546382            1.142731   \n",
       "\n",
       "   Site20_AA_Factor_4  Site20_AA_Factor_5  \n",
       "0            1.209068           -0.916490  \n",
       "1            1.209068           -0.916490  \n",
       "2           -1.824785            0.555057  \n",
       "3            0.758108            0.615132  \n",
       "4            0.062766            0.319514  \n",
       "\n",
       "[5 rows x 942 columns]"
      ]
     },
     "execution_count": 3,
     "metadata": {},
     "output_type": "execute_result"
    }
   ],
   "source": [
    "df.head()"
   ]
  },
  {
   "cell_type": "code",
   "execution_count": 4,
   "metadata": {},
   "outputs": [],
   "source": [
    "X = df.iloc[:, 1:].values"
   ]
  },
  {
   "cell_type": "code",
   "execution_count": 5,
   "metadata": {},
   "outputs": [
    {
     "name": "stdout",
     "output_type": "stream",
     "text": [
      "(464, 941)\n"
     ]
    }
   ],
   "source": [
    "print(X.shape)"
   ]
  },
  {
   "cell_type": "code",
   "execution_count": 6,
   "metadata": {},
   "outputs": [],
   "source": [
    "from sklearn.decomposition import PCA"
   ]
  },
  {
   "cell_type": "code",
   "execution_count": 13,
   "metadata": {},
   "outputs": [],
   "source": [
    "clf = PCA(n_components=100, svd_solver='auto')"
   ]
  },
  {
   "cell_type": "code",
   "execution_count": 14,
   "metadata": {},
   "outputs": [
    {
     "data": {
      "text/plain": [
       "PCA(copy=True, iterated_power='auto', n_components=100, random_state=None,\n",
       "    svd_solver='auto', tol=0.0, whiten=False)"
      ]
     },
     "execution_count": 14,
     "metadata": {},
     "output_type": "execute_result"
    }
   ],
   "source": [
    "clf"
   ]
  },
  {
   "cell_type": "code",
   "execution_count": 15,
   "metadata": {},
   "outputs": [
    {
     "data": {
      "text/plain": [
       "PCA(copy=True, iterated_power='auto', n_components=100, random_state=None,\n",
       "    svd_solver='auto', tol=0.0, whiten=False)"
      ]
     },
     "execution_count": 15,
     "metadata": {},
     "output_type": "execute_result"
    }
   ],
   "source": [
    "clf.fit(X)"
   ]
  },
  {
   "cell_type": "code",
   "execution_count": 16,
   "metadata": {},
   "outputs": [],
   "source": [
    "X_new = clf.transform(X)"
   ]
  },
  {
   "cell_type": "code",
   "execution_count": 17,
   "metadata": {},
   "outputs": [
    {
     "data": {
      "text/plain": [
       "(464, 100)"
      ]
     },
     "execution_count": 17,
     "metadata": {},
     "output_type": "execute_result"
    }
   ],
   "source": [
    "X_new.shape"
   ]
  },
  {
   "cell_type": "code",
   "execution_count": null,
   "metadata": {},
   "outputs": [],
   "source": []
  }
 ],
 "metadata": {
  "kernelspec": {
   "display_name": "Python 3",
   "language": "python",
   "name": "python3"
  },
  "language_info": {
   "codemirror_mode": {
    "name": "ipython",
    "version": 3
   },
   "file_extension": ".py",
   "mimetype": "text/x-python",
   "name": "python",
   "nbconvert_exporter": "python",
   "pygments_lexer": "ipython3",
   "version": "3.7.4"
  }
 },
 "nbformat": 4,
 "nbformat_minor": 4
}
