{
 "cells": [
  {
   "cell_type": "markdown",
   "metadata": {},
   "source": [
    "## CSV To Adjacency Matrix"
   ]
  },
  {
   "cell_type": "code",
   "execution_count": 3,
   "metadata": {},
   "outputs": [],
   "source": [
    "import numpy as np\n",
    "import pandas as pd\n",
    "import networkx as nx"
   ]
  },
  {
   "cell_type": "markdown",
   "metadata": {},
   "source": [
    "#### Ref [http://pandas.pydata.org/pandas-docs/stable/generated/pandas.read_csv.html](http://pandas.pydata.org/pandas-docs/stable/generated/pandas.read_csv.html)"
   ]
  },
  {
   "cell_type": "code",
   "execution_count": 4,
   "metadata": {},
   "outputs": [],
   "source": [
    "df = pd.read_csv('./dataset/membrane_edge.csv', header=None)"
   ]
  },
  {
   "cell_type": "code",
   "execution_count": 35,
   "metadata": {},
   "outputs": [
    {
     "name": "stdout",
     "output_type": "stream",
     "text": [
      "(155338, 2)\n",
      "(155338,)\n",
      "(155338,)\n",
      "(2,)\n",
      "(2,)\n",
      "[ 1 69]\n"
     ]
    }
   ],
   "source": [
    "print(df.shape)\n",
    "print(df[0].shape) # 第一列 shape\n",
    "print(df[1].shape) # 第二列 shape\n",
    "print(df.loc[1, :].shape) # 某一行 shape\n",
    "print(df.iloc[1].shape) # 第二行 shape\n",
    "# print(df.iloc[1].index.values)\n",
    "print(df.iloc[2].values) # 第二行 values"
   ]
  },
  {
   "cell_type": "markdown",
   "metadata": {},
   "source": [
    "#### Ref [https://pandas.pydata.org/pandas-docs/stable/generated/pandas.DataFrame.to_dict.html](https://pandas.pydata.org/pandas-docs/stable/generated/pandas.DataFrame.to_dict.html)"
   ]
  },
  {
   "cell_type": "code",
   "execution_count": 7,
   "metadata": {},
   "outputs": [
    {
     "name": "stdout",
     "output_type": "stream",
     "text": [
      "[[1,2],[1,59],[1,69]]\n"
     ]
    }
   ],
   "source": [
    "print(df.iloc[0:3].to_json(orient='values')) # row 1-3 transfer to dict"
   ]
  },
  {
   "cell_type": "markdown",
   "metadata": {},
   "source": [
    "### List Unique Values In A pandas Column"
   ]
  },
  {
   "cell_type": "code",
   "execution_count": 8,
   "metadata": {},
   "outputs": [
    {
     "name": "stdout",
     "output_type": "stream",
     "text": [
      "[   1    2    3 ... 2694 2695 2704]\n"
     ]
    }
   ],
   "source": [
    "keys = df.loc[:,0].unique() # select first column and get unique values\n",
    "print(keys)"
   ]
  },
  {
   "cell_type": "markdown",
   "metadata": {},
   "source": [
    "### CSV format to dict by using first column as key\n",
    "> Ref [Dict Comprehensions](https://www.python.org/dev/peps/pep-0274/)"
   ]
  },
  {
   "cell_type": "code",
   "execution_count": 36,
   "metadata": {},
   "outputs": [],
   "source": [
    "edge_dict = {key: df[df[0]==key].loc[:,1].values.tolist() for key in keys} #  根据第一列的key来过滤出所有第二列的值并转换为 dict"
   ]
  },
  {
   "cell_type": "code",
   "execution_count": 48,
   "metadata": {},
   "outputs": [
    {
     "name": "stdout",
     "output_type": "stream",
     "text": [
      "[2, 59, 69, 87, 88, 93, 109, 120, 121, 136, 147, 177, 187, 212, 238, 239, 256, 274, 303, 305, 311, 326, 356, 361, 363, 382, 400, 453, 455, 487, 491, 519, 525, 534, 536, 551, 566, 571, 580, 587, 589, 592, 610, 638, 643, 659, 660, 720, 722, 734, 755, 771, 781, 793, 804, 854, 856, 868, 872, 875, 909, 923, 948, 960, 976, 995, 1035, 1045, 1063, 1134, 1137, 1158, 1160, 1173, 1175, 1194, 1210, 1241, 1289, 1296, 1339, 1346, 1363, 1420, 1436, 1439, 1477, 1507, 1536, 1554, 1613, 1621, 1653, 1660, 1665, 1677, 1738, 1748, 1792, 1803, 1813, 1816, 1818, 1838, 1868, 1893, 1895, 1900, 1909, 1928, 1958, 1959, 2015, 2039, 2051, 2060, 2083, 2150, 2203, 2212, 2275, 2291, 2295, 2299, 2303, 2337, 2348, 2386, 2489, 2540, 2621, 2636, 2641, 2689, 2693, 2694]\n",
      "<class 'dict'>\n",
      "\n",
      "The length of Edge dict: 2651\n"
     ]
    }
   ],
   "source": [
    "print(edge_dict.get(1))\n",
    "print(type(edge_dict))\n",
    "print(\"\\nThe length of Edge dict:\", len(edge_dict))"
   ]
  },
  {
   "cell_type": "markdown",
   "metadata": {},
   "source": [
    "### Convert Dict Graph to Adjacency Matrix"
   ]
  },
  {
   "cell_type": "code",
   "execution_count": 50,
   "metadata": {},
   "outputs": [],
   "source": [
    "adj = nx.adjacency_matrix(nx.from_dict_of_lists(edge_dict))"
   ]
  },
  {
   "cell_type": "code",
   "execution_count": 53,
   "metadata": {},
   "outputs": [
    {
     "name": "stdout",
     "output_type": "stream",
     "text": [
      "<class 'scipy.sparse.csr.csr_matrix'>\n",
      "\n",
      "The Adjacency Matrix shape (2713, 2713)\n"
     ]
    }
   ],
   "source": [
    "print(type(adj))\n",
    "print(\"\\nThe Adjacency Matrix shape\", adj.shape)"
   ]
  },
  {
   "cell_type": "code",
   "execution_count": 56,
   "metadata": {},
   "outputs": [
    {
     "name": "stdout",
     "output_type": "stream",
     "text": [
      "<class 'numpy.matrixlib.defmatrix.matrix'>\n",
      "<class 'numpy.ndarray'>\n"
     ]
    }
   ],
   "source": [
    "print(type(adj.todense()))\n",
    "print(type(adj.toarray()))"
   ]
  },
  {
   "cell_type": "code",
   "execution_count": null,
   "metadata": {},
   "outputs": [],
   "source": []
  }
 ],
 "metadata": {
  "kernelspec": {
   "display_name": "Python 3",
   "language": "python",
   "name": "python3"
  },
  "language_info": {
   "codemirror_mode": {
    "name": "ipython",
    "version": 3
   },
   "file_extension": ".py",
   "mimetype": "text/x-python",
   "name": "python",
   "nbconvert_exporter": "python",
   "pygments_lexer": "ipython3",
   "version": "3.6.6"
  }
 },
 "nbformat": 4,
 "nbformat_minor": 2
}
