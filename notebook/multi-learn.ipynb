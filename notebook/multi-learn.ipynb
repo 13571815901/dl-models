{
 "cells": [
  {
   "cell_type": "code",
   "execution_count": 1,
   "metadata": {},
   "outputs": [],
   "source": [
    "import arff"
   ]
  },
  {
   "cell_type": "code",
   "execution_count": 31,
   "metadata": {},
   "outputs": [],
   "source": [
    "from skmultilearn.dataset import load_dataset"
   ]
  },
  {
   "cell_type": "code",
   "execution_count": 32,
   "metadata": {},
   "outputs": [
    {
     "name": "stdout",
     "output_type": "stream",
     "text": [
      "emotions:train - exists, not redownloading\n",
      "emotions:test - exists, not redownloading\n"
     ]
    }
   ],
   "source": [
    "X_train, y_train, feature_names, label_names = load_dataset('emotions', 'train')\n",
    "X_test, y_test, _, _ =load_dataset('emotions', 'test')"
   ]
  },
  {
   "cell_type": "code",
   "execution_count": 33,
   "metadata": {},
   "outputs": [
    {
     "data": {
      "text/plain": [
       "list"
      ]
     },
     "execution_count": 33,
     "metadata": {},
     "output_type": "execute_result"
    }
   ],
   "source": [
    "type(label_names)"
   ]
  },
  {
   "cell_type": "code",
   "execution_count": 34,
   "metadata": {},
   "outputs": [
    {
     "data": {
      "text/plain": [
       "scipy.sparse.lil.lil_matrix"
      ]
     },
     "execution_count": 34,
     "metadata": {},
     "output_type": "execute_result"
    }
   ],
   "source": [
    "type(y_train)"
   ]
  },
  {
   "cell_type": "code",
   "execution_count": 35,
   "metadata": {},
   "outputs": [
    {
     "data": {
      "text/plain": [
       "(391, 6)"
      ]
     },
     "execution_count": 35,
     "metadata": {},
     "output_type": "execute_result"
    }
   ],
   "source": [
    "y_train.shape"
   ]
  },
  {
   "cell_type": "code",
   "execution_count": 2,
   "metadata": {},
   "outputs": [],
   "source": [
    "import numpy as np"
   ]
  },
  {
   "cell_type": "code",
   "execution_count": 36,
   "metadata": {},
   "outputs": [],
   "source": [
    "# np.unique(y_train.rows).shape, np.unique(y_test.rows).shape"
   ]
  },
  {
   "cell_type": "code",
   "execution_count": 22,
   "metadata": {},
   "outputs": [
    {
     "data": {
      "text/plain": [
       "(391, 72)"
      ]
     },
     "execution_count": 22,
     "metadata": {},
     "output_type": "execute_result"
    }
   ],
   "source": [
    "X_train.shape"
   ]
  },
  {
   "cell_type": "code",
   "execution_count": 92,
   "metadata": {},
   "outputs": [],
   "source": [
    "# Import BinaryRelevance from skmultilearn\n",
    "from skmultilearn.problem_transform import BinaryRelevance"
   ]
  },
  {
   "cell_type": "code",
   "execution_count": 93,
   "metadata": {},
   "outputs": [],
   "source": [
    "# Import SVC classifier from sklearn\n",
    "from sklearn.svm import SVC"
   ]
  },
  {
   "cell_type": "code",
   "execution_count": 94,
   "metadata": {},
   "outputs": [],
   "source": [
    "# Setup the classifier\n",
    "classifier = BinaryRelevance(classifier=SVC(), require_dense=[False,True])"
   ]
  },
  {
   "cell_type": "code",
   "execution_count": 26,
   "metadata": {},
   "outputs": [
    {
     "name": "stderr",
     "output_type": "stream",
     "text": [
      "D:\\Dev\\Miniconda3\\envs\\dl\\lib\\site-packages\\sklearn\\svm\\base.py:193: FutureWarning: The default value of gamma will change from 'auto' to 'scale' in version 0.22 to account better for unscaled features. Set gamma explicitly to 'auto' or 'scale' to avoid this warning.\n",
      "  \"avoid this warning.\", FutureWarning)\n",
      "D:\\Dev\\Miniconda3\\envs\\dl\\lib\\site-packages\\sklearn\\svm\\base.py:193: FutureWarning: The default value of gamma will change from 'auto' to 'scale' in version 0.22 to account better for unscaled features. Set gamma explicitly to 'auto' or 'scale' to avoid this warning.\n",
      "  \"avoid this warning.\", FutureWarning)\n",
      "D:\\Dev\\Miniconda3\\envs\\dl\\lib\\site-packages\\sklearn\\svm\\base.py:193: FutureWarning: The default value of gamma will change from 'auto' to 'scale' in version 0.22 to account better for unscaled features. Set gamma explicitly to 'auto' or 'scale' to avoid this warning.\n",
      "  \"avoid this warning.\", FutureWarning)\n",
      "D:\\Dev\\Miniconda3\\envs\\dl\\lib\\site-packages\\sklearn\\svm\\base.py:193: FutureWarning: The default value of gamma will change from 'auto' to 'scale' in version 0.22 to account better for unscaled features. Set gamma explicitly to 'auto' or 'scale' to avoid this warning.\n",
      "  \"avoid this warning.\", FutureWarning)\n",
      "D:\\Dev\\Miniconda3\\envs\\dl\\lib\\site-packages\\sklearn\\svm\\base.py:193: FutureWarning: The default value of gamma will change from 'auto' to 'scale' in version 0.22 to account better for unscaled features. Set gamma explicitly to 'auto' or 'scale' to avoid this warning.\n",
      "  \"avoid this warning.\", FutureWarning)\n",
      "D:\\Dev\\Miniconda3\\envs\\dl\\lib\\site-packages\\sklearn\\svm\\base.py:193: FutureWarning: The default value of gamma will change from 'auto' to 'scale' in version 0.22 to account better for unscaled features. Set gamma explicitly to 'auto' or 'scale' to avoid this warning.\n",
      "  \"avoid this warning.\", FutureWarning)\n"
     ]
    },
    {
     "data": {
      "text/plain": [
       "BinaryRelevance(classifier=SVC(C=1.0, cache_size=200, class_weight=None,\n",
       "                               coef0=0.0, decision_function_shape='ovr',\n",
       "                               degree=3, gamma='auto_deprecated', kernel='rbf',\n",
       "                               max_iter=-1, probability=False,\n",
       "                               random_state=None, shrinking=True, tol=0.001,\n",
       "                               verbose=False),\n",
       "                require_dense=[False, True])"
      ]
     },
     "execution_count": 26,
     "metadata": {},
     "output_type": "execute_result"
    }
   ],
   "source": [
    "# Train\n",
    "classifier.fit(X_train, y_train)"
   ]
  },
  {
   "cell_type": "code",
   "execution_count": 27,
   "metadata": {},
   "outputs": [],
   "source": [
    "# Predict\n",
    "y_pred = classifier.predict(X_test)"
   ]
  },
  {
   "cell_type": "code",
   "execution_count": 28,
   "metadata": {},
   "outputs": [],
   "source": [
    "from sklearn.metrics import accuracy_score"
   ]
  },
  {
   "cell_type": "code",
   "execution_count": 32,
   "metadata": {},
   "outputs": [],
   "source": [
    "import sklearn.metrics as metrics"
   ]
  },
  {
   "cell_type": "code",
   "execution_count": 34,
   "metadata": {},
   "outputs": [
    {
     "data": {
      "text/plain": [
       "0.26485148514851486"
      ]
     },
     "execution_count": 34,
     "metadata": {},
     "output_type": "execute_result"
    }
   ],
   "source": [
    "metrics.hamming_loss(y_test, y_pred)"
   ]
  },
  {
   "cell_type": "code",
   "execution_count": 20,
   "metadata": {},
   "outputs": [],
   "source": [
    "# dataset = arff.load(open('d:\\datasets\\TF_knockdown_2_MEKA.arff', 'rt'))"
   ]
  },
  {
   "cell_type": "code",
   "execution_count": 17,
   "metadata": {},
   "outputs": [],
   "source": [
    "from scipy.io import arff"
   ]
  },
  {
   "cell_type": "code",
   "execution_count": 58,
   "metadata": {},
   "outputs": [],
   "source": [
    "data, meta = arff.loadarff('d:\\datasets\\TF_knockdown_2_MEKA.arff')"
   ]
  },
  {
   "cell_type": "code",
   "execution_count": 66,
   "metadata": {},
   "outputs": [],
   "source": [
    "import pandas as pd"
   ]
  },
  {
   "cell_type": "code",
   "execution_count": 67,
   "metadata": {},
   "outputs": [],
   "source": [
    "df = pd.DataFrame(data=data)"
   ]
  },
  {
   "cell_type": "code",
   "execution_count": 68,
   "metadata": {},
   "outputs": [
    {
     "data": {
      "text/html": [
       "<div>\n",
       "<style scoped>\n",
       "    .dataframe tbody tr th:only-of-type {\n",
       "        vertical-align: middle;\n",
       "    }\n",
       "\n",
       "    .dataframe tbody tr th {\n",
       "        vertical-align: top;\n",
       "    }\n",
       "\n",
       "    .dataframe thead th {\n",
       "        text-align: right;\n",
       "    }\n",
       "</style>\n",
       "<table border=\"1\" class=\"dataframe\">\n",
       "  <thead>\n",
       "    <tr style=\"text-align: right;\">\n",
       "      <th></th>\n",
       "      <th>class1</th>\n",
       "      <th>class2</th>\n",
       "      <th>class3</th>\n",
       "      <th>class4</th>\n",
       "      <th>class5</th>\n",
       "      <th>class6</th>\n",
       "      <th>class7</th>\n",
       "      <th>class8</th>\n",
       "      <th>class9</th>\n",
       "      <th>CGR8.Arhgef11</th>\n",
       "      <th>...</th>\n",
       "      <th>N2A.Slain2</th>\n",
       "      <th>N2A.Spag9</th>\n",
       "      <th>N2A.Ssbp3</th>\n",
       "      <th>N2A.Tbc1d23</th>\n",
       "      <th>N2A.Tead1.A1</th>\n",
       "      <th>N2A.Tead1.A3</th>\n",
       "      <th>N2A.Ubtf</th>\n",
       "      <th>N2A.Uspl1.A1</th>\n",
       "      <th>N2A.Uspl1.A2</th>\n",
       "      <th>N2A.Xpo4</th>\n",
       "    </tr>\n",
       "  </thead>\n",
       "  <tbody>\n",
       "    <tr>\n",
       "      <td>0</td>\n",
       "      <td>b'1'</td>\n",
       "      <td>b'0'</td>\n",
       "      <td>b'0'</td>\n",
       "      <td>b'0'</td>\n",
       "      <td>b'0'</td>\n",
       "      <td>b'0'</td>\n",
       "      <td>b'0'</td>\n",
       "      <td>b'0'</td>\n",
       "      <td>b'0'</td>\n",
       "      <td>0.283451</td>\n",
       "      <td>...</td>\n",
       "      <td>-0.102761</td>\n",
       "      <td>-0.084580</td>\n",
       "      <td>-0.440413</td>\n",
       "      <td>-2.576737</td>\n",
       "      <td>0.191635</td>\n",
       "      <td>0.332387</td>\n",
       "      <td>0.661686</td>\n",
       "      <td>0.605076</td>\n",
       "      <td>0.483252</td>\n",
       "      <td>-0.282253</td>\n",
       "    </tr>\n",
       "    <tr>\n",
       "      <td>1</td>\n",
       "      <td>b'1'</td>\n",
       "      <td>b'0'</td>\n",
       "      <td>b'0'</td>\n",
       "      <td>b'0'</td>\n",
       "      <td>b'0'</td>\n",
       "      <td>b'0'</td>\n",
       "      <td>b'0'</td>\n",
       "      <td>b'0'</td>\n",
       "      <td>b'0'</td>\n",
       "      <td>0.427489</td>\n",
       "      <td>...</td>\n",
       "      <td>-0.121880</td>\n",
       "      <td>-0.423803</td>\n",
       "      <td>-0.196789</td>\n",
       "      <td>-4.599442</td>\n",
       "      <td>0.317337</td>\n",
       "      <td>0.171973</td>\n",
       "      <td>0.078284</td>\n",
       "      <td>-0.116500</td>\n",
       "      <td>-0.663218</td>\n",
       "      <td>-0.418863</td>\n",
       "    </tr>\n",
       "    <tr>\n",
       "      <td>2</td>\n",
       "      <td>b'1'</td>\n",
       "      <td>b'0'</td>\n",
       "      <td>b'0'</td>\n",
       "      <td>b'0'</td>\n",
       "      <td>b'1'</td>\n",
       "      <td>b'0'</td>\n",
       "      <td>b'0'</td>\n",
       "      <td>b'0'</td>\n",
       "      <td>b'0'</td>\n",
       "      <td>-0.326574</td>\n",
       "      <td>...</td>\n",
       "      <td>-0.507111</td>\n",
       "      <td>-2.831249</td>\n",
       "      <td>-1.408496</td>\n",
       "      <td>-4.038101</td>\n",
       "      <td>0.456082</td>\n",
       "      <td>-0.798436</td>\n",
       "      <td>2.139795</td>\n",
       "      <td>-0.182573</td>\n",
       "      <td>-1.462759</td>\n",
       "      <td>-0.131938</td>\n",
       "    </tr>\n",
       "    <tr>\n",
       "      <td>3</td>\n",
       "      <td>b'1'</td>\n",
       "      <td>b'0'</td>\n",
       "      <td>b'0'</td>\n",
       "      <td>b'0'</td>\n",
       "      <td>b'0'</td>\n",
       "      <td>b'0'</td>\n",
       "      <td>b'0'</td>\n",
       "      <td>b'0'</td>\n",
       "      <td>b'0'</td>\n",
       "      <td>-0.249097</td>\n",
       "      <td>...</td>\n",
       "      <td>-0.359208</td>\n",
       "      <td>-1.934674</td>\n",
       "      <td>-1.062874</td>\n",
       "      <td>-1.233482</td>\n",
       "      <td>-0.399310</td>\n",
       "      <td>-0.161637</td>\n",
       "      <td>1.201784</td>\n",
       "      <td>0.354757</td>\n",
       "      <td>2.193761</td>\n",
       "      <td>-0.286259</td>\n",
       "    </tr>\n",
       "    <tr>\n",
       "      <td>4</td>\n",
       "      <td>b'1'</td>\n",
       "      <td>b'0'</td>\n",
       "      <td>b'0'</td>\n",
       "      <td>b'0'</td>\n",
       "      <td>b'0'</td>\n",
       "      <td>b'1'</td>\n",
       "      <td>b'0'</td>\n",
       "      <td>b'0'</td>\n",
       "      <td>b'0'</td>\n",
       "      <td>-0.050508</td>\n",
       "      <td>...</td>\n",
       "      <td>-0.205232</td>\n",
       "      <td>0.439393</td>\n",
       "      <td>0.691657</td>\n",
       "      <td>-8.064449</td>\n",
       "      <td>-0.813852</td>\n",
       "      <td>0.141126</td>\n",
       "      <td>2.115329</td>\n",
       "      <td>-0.295683</td>\n",
       "      <td>1.083714</td>\n",
       "      <td>0.241679</td>\n",
       "    </tr>\n",
       "  </tbody>\n",
       "</table>\n",
       "<p>5 rows × 108 columns</p>\n",
       "</div>"
      ],
      "text/plain": [
       "  class1 class2 class3 class4 class5 class6 class7 class8 class9  \\\n",
       "0   b'1'   b'0'   b'0'   b'0'   b'0'   b'0'   b'0'   b'0'   b'0'   \n",
       "1   b'1'   b'0'   b'0'   b'0'   b'0'   b'0'   b'0'   b'0'   b'0'   \n",
       "2   b'1'   b'0'   b'0'   b'0'   b'1'   b'0'   b'0'   b'0'   b'0'   \n",
       "3   b'1'   b'0'   b'0'   b'0'   b'0'   b'0'   b'0'   b'0'   b'0'   \n",
       "4   b'1'   b'0'   b'0'   b'0'   b'0'   b'1'   b'0'   b'0'   b'0'   \n",
       "\n",
       "   CGR8.Arhgef11  ...  N2A.Slain2  N2A.Spag9  N2A.Ssbp3  N2A.Tbc1d23  \\\n",
       "0       0.283451  ...   -0.102761  -0.084580  -0.440413    -2.576737   \n",
       "1       0.427489  ...   -0.121880  -0.423803  -0.196789    -4.599442   \n",
       "2      -0.326574  ...   -0.507111  -2.831249  -1.408496    -4.038101   \n",
       "3      -0.249097  ...   -0.359208  -1.934674  -1.062874    -1.233482   \n",
       "4      -0.050508  ...   -0.205232   0.439393   0.691657    -8.064449   \n",
       "\n",
       "   N2A.Tead1.A1  N2A.Tead1.A3  N2A.Ubtf  N2A.Uspl1.A1  N2A.Uspl1.A2  N2A.Xpo4  \n",
       "0      0.191635      0.332387  0.661686      0.605076      0.483252 -0.282253  \n",
       "1      0.317337      0.171973  0.078284     -0.116500     -0.663218 -0.418863  \n",
       "2      0.456082     -0.798436  2.139795     -0.182573     -1.462759 -0.131938  \n",
       "3     -0.399310     -0.161637  1.201784      0.354757      2.193761 -0.286259  \n",
       "4     -0.813852      0.141126  2.115329     -0.295683      1.083714  0.241679  \n",
       "\n",
       "[5 rows x 108 columns]"
      ]
     },
     "execution_count": 68,
     "metadata": {},
     "output_type": "execute_result"
    }
   ],
   "source": [
    "df.head()"
   ]
  },
  {
   "cell_type": "code",
   "execution_count": 84,
   "metadata": {},
   "outputs": [
    {
     "data": {
      "text/plain": [
       "array([[1, 0, 0, 0, 0, 0, 0, 0, 0],\n",
       "       [1, 0, 0, 0, 0, 0, 0, 0, 0],\n",
       "       [1, 0, 0, 0, 1, 0, 0, 0, 0],\n",
       "       [1, 0, 0, 0, 0, 0, 0, 0, 0]])"
      ]
     },
     "execution_count": 84,
     "metadata": {},
     "output_type": "execute_result"
    }
   ],
   "source": [
    "df.iloc[0:4, 0:9].values.astype(np.int)"
   ]
  },
  {
   "cell_type": "code",
   "execution_count": 85,
   "metadata": {},
   "outputs": [],
   "source": [
    "y_tf_train = df.iloc[:, 0:9].values.astype(np.int)"
   ]
  },
  {
   "cell_type": "code",
   "execution_count": 86,
   "metadata": {},
   "outputs": [
    {
     "data": {
      "text/plain": [
       "(158, 9)"
      ]
     },
     "execution_count": 86,
     "metadata": {},
     "output_type": "execute_result"
    }
   ],
   "source": [
    "y_tf_train.shape"
   ]
  },
  {
   "cell_type": "code",
   "execution_count": 87,
   "metadata": {},
   "outputs": [],
   "source": [
    "x_tf_train = df.iloc[:, 9:].values"
   ]
  },
  {
   "cell_type": "code",
   "execution_count": 88,
   "metadata": {},
   "outputs": [
    {
     "data": {
      "text/plain": [
       "(158, 99)"
      ]
     },
     "execution_count": 88,
     "metadata": {},
     "output_type": "execute_result"
    }
   ],
   "source": [
    "x_tf_train.shape"
   ]
  },
  {
   "cell_type": "code",
   "execution_count": 95,
   "metadata": {},
   "outputs": [
    {
     "name": "stderr",
     "output_type": "stream",
     "text": [
      "D:\\Dev\\Miniconda3\\envs\\dl\\lib\\site-packages\\sklearn\\svm\\base.py:193: FutureWarning: The default value of gamma will change from 'auto' to 'scale' in version 0.22 to account better for unscaled features. Set gamma explicitly to 'auto' or 'scale' to avoid this warning.\n",
      "  \"avoid this warning.\", FutureWarning)\n",
      "D:\\Dev\\Miniconda3\\envs\\dl\\lib\\site-packages\\sklearn\\svm\\base.py:193: FutureWarning: The default value of gamma will change from 'auto' to 'scale' in version 0.22 to account better for unscaled features. Set gamma explicitly to 'auto' or 'scale' to avoid this warning.\n",
      "  \"avoid this warning.\", FutureWarning)\n",
      "D:\\Dev\\Miniconda3\\envs\\dl\\lib\\site-packages\\sklearn\\svm\\base.py:193: FutureWarning: The default value of gamma will change from 'auto' to 'scale' in version 0.22 to account better for unscaled features. Set gamma explicitly to 'auto' or 'scale' to avoid this warning.\n",
      "  \"avoid this warning.\", FutureWarning)\n",
      "D:\\Dev\\Miniconda3\\envs\\dl\\lib\\site-packages\\sklearn\\svm\\base.py:193: FutureWarning: The default value of gamma will change from 'auto' to 'scale' in version 0.22 to account better for unscaled features. Set gamma explicitly to 'auto' or 'scale' to avoid this warning.\n",
      "  \"avoid this warning.\", FutureWarning)\n",
      "D:\\Dev\\Miniconda3\\envs\\dl\\lib\\site-packages\\sklearn\\svm\\base.py:193: FutureWarning: The default value of gamma will change from 'auto' to 'scale' in version 0.22 to account better for unscaled features. Set gamma explicitly to 'auto' or 'scale' to avoid this warning.\n",
      "  \"avoid this warning.\", FutureWarning)\n",
      "D:\\Dev\\Miniconda3\\envs\\dl\\lib\\site-packages\\sklearn\\svm\\base.py:193: FutureWarning: The default value of gamma will change from 'auto' to 'scale' in version 0.22 to account better for unscaled features. Set gamma explicitly to 'auto' or 'scale' to avoid this warning.\n",
      "  \"avoid this warning.\", FutureWarning)\n",
      "D:\\Dev\\Miniconda3\\envs\\dl\\lib\\site-packages\\sklearn\\svm\\base.py:193: FutureWarning: The default value of gamma will change from 'auto' to 'scale' in version 0.22 to account better for unscaled features. Set gamma explicitly to 'auto' or 'scale' to avoid this warning.\n",
      "  \"avoid this warning.\", FutureWarning)\n",
      "D:\\Dev\\Miniconda3\\envs\\dl\\lib\\site-packages\\sklearn\\svm\\base.py:193: FutureWarning: The default value of gamma will change from 'auto' to 'scale' in version 0.22 to account better for unscaled features. Set gamma explicitly to 'auto' or 'scale' to avoid this warning.\n",
      "  \"avoid this warning.\", FutureWarning)\n",
      "D:\\Dev\\Miniconda3\\envs\\dl\\lib\\site-packages\\sklearn\\svm\\base.py:193: FutureWarning: The default value of gamma will change from 'auto' to 'scale' in version 0.22 to account better for unscaled features. Set gamma explicitly to 'auto' or 'scale' to avoid this warning.\n",
      "  \"avoid this warning.\", FutureWarning)\n"
     ]
    },
    {
     "data": {
      "text/plain": [
       "BinaryRelevance(classifier=SVC(C=1.0, cache_size=200, class_weight=None,\n",
       "                               coef0=0.0, decision_function_shape='ovr',\n",
       "                               degree=3, gamma='auto_deprecated', kernel='rbf',\n",
       "                               max_iter=-1, probability=False,\n",
       "                               random_state=None, shrinking=True, tol=0.001,\n",
       "                               verbose=False),\n",
       "                require_dense=[False, True])"
      ]
     },
     "execution_count": 95,
     "metadata": {},
     "output_type": "execute_result"
    }
   ],
   "source": [
    "# Train\n",
    "classifier.fit(x_tf_train, y_tf_train)"
   ]
  },
  {
   "cell_type": "code",
   "execution_count": 98,
   "metadata": {},
   "outputs": [],
   "source": [
    "y_pred_test = classifier.predict(x_tf_train[0])"
   ]
  },
  {
   "cell_type": "code",
   "execution_count": 101,
   "metadata": {},
   "outputs": [
    {
     "data": {
      "text/plain": [
       "array([[1, 0, 0, 0, 0, 0, 0, 0, 0]], dtype=int32)"
      ]
     },
     "execution_count": 101,
     "metadata": {},
     "output_type": "execute_result"
    }
   ],
   "source": [
    "y_pred_test.toarray()"
   ]
  },
  {
   "cell_type": "code",
   "execution_count": 11,
   "metadata": {},
   "outputs": [],
   "source": [
    "test_idx_cache = np.empty((3,9))"
   ]
  },
  {
   "cell_type": "code",
   "execution_count": 12,
   "metadata": {},
   "outputs": [
    {
     "data": {
      "text/plain": [
       "(3, 9)"
      ]
     },
     "execution_count": 12,
     "metadata": {},
     "output_type": "execute_result"
    }
   ],
   "source": [
    "test_idx_cache.shape"
   ]
  },
  {
   "cell_type": "code",
   "execution_count": 13,
   "metadata": {},
   "outputs": [
    {
     "data": {
      "text/plain": [
       "array([[6.23042070e-307, 2.22523004e-307, 3.22651328e-307,\n",
       "        8.45599366e-307, 7.56593017e-307, 1.33511290e-306,\n",
       "        8.90092016e-307, 1.11261027e-306, 1.11261502e-306],\n",
       "       [1.42410839e-306, 7.56597770e-307, 6.23059726e-307,\n",
       "        1.11260483e-306, 1.11260755e-306, 1.42417629e-306,\n",
       "        2.22523140e-306, 1.42421160e-306, 9.34601642e-307],\n",
       "       [1.06811422e-306, 6.89806849e-307, 1.78021391e-306,\n",
       "        6.23037996e-307, 7.56603881e-307, 1.69118787e-306,\n",
       "        8.34451503e-308, 2.22813476e-312, 2.22813476e-312]])"
      ]
     },
     "execution_count": 13,
     "metadata": {},
     "output_type": "execute_result"
    }
   ],
   "source": [
    "test_idx_cache"
   ]
  },
  {
   "cell_type": "code",
   "execution_count": 14,
   "metadata": {},
   "outputs": [
    {
     "data": {
      "text/plain": [
       "array([[1.42410839e-306, 7.56597770e-307, 6.23059726e-307,\n",
       "        1.11260483e-306, 1.11260755e-306, 1.42417629e-306,\n",
       "        2.22523140e-306, 1.42421160e-306, 9.34601642e-307],\n",
       "       [1.06811422e-306, 6.89806849e-307, 1.78021391e-306,\n",
       "        6.23037996e-307, 7.56603881e-307, 1.69118787e-306,\n",
       "        8.34451503e-308, 2.22813476e-312, 2.22813476e-312]])"
      ]
     },
     "execution_count": 14,
     "metadata": {},
     "output_type": "execute_result"
    }
   ],
   "source": [
    "np.delete(test_idx_cache, 0, axis=0)"
   ]
  },
  {
   "cell_type": "code",
   "execution_count": 15,
   "metadata": {},
   "outputs": [
    {
     "data": {
      "text/plain": [
       "array([[6.23042070e-307, 2.22523004e-307, 3.22651328e-307,\n",
       "        8.45599366e-307, 7.56593017e-307, 1.33511290e-306,\n",
       "        8.90092016e-307, 1.11261027e-306, 1.11261502e-306],\n",
       "       [1.42410839e-306, 7.56597770e-307, 6.23059726e-307,\n",
       "        1.11260483e-306, 1.11260755e-306, 1.42417629e-306,\n",
       "        2.22523140e-306, 1.42421160e-306, 9.34601642e-307],\n",
       "       [1.06811422e-306, 6.89806849e-307, 1.78021391e-306,\n",
       "        6.23037996e-307, 7.56603881e-307, 1.69118787e-306,\n",
       "        8.34451503e-308, 2.22813476e-312, 2.22813476e-312]])"
      ]
     },
     "execution_count": 15,
     "metadata": {},
     "output_type": "execute_result"
    }
   ],
   "source": [
    "test_idx_cache"
   ]
  },
  {
   "cell_type": "code",
   "execution_count": 18,
   "metadata": {},
   "outputs": [
    {
     "data": {
      "text/plain": [
       "array([[6.23042070e-307, 2.22523004e-307, 3.22651328e-307,\n",
       "        8.45599366e-307, 7.56593017e-307, 1.33511290e-306,\n",
       "        8.90092016e-307, 1.11261027e-306, 1.11261502e-306],\n",
       "       [1.42410839e-306, 7.56597770e-307, 6.23059726e-307,\n",
       "        1.11260483e-306, 1.11260755e-306, 1.42417629e-306,\n",
       "        2.22523140e-306, 1.42421160e-306, 9.34601642e-307],\n",
       "       [1.06811422e-306, 6.89806849e-307, 1.78021391e-306,\n",
       "        6.23037996e-307, 7.56603881e-307, 1.69118787e-306,\n",
       "        8.34451503e-308, 2.22813476e-312, 2.22813476e-312],\n",
       "       [0.00000000e+000, 0.00000000e+000, 0.00000000e+000,\n",
       "        0.00000000e+000, 0.00000000e+000, 0.00000000e+000,\n",
       "        0.00000000e+000, 0.00000000e+000, 0.00000000e+000]])"
      ]
     },
     "execution_count": 18,
     "metadata": {},
     "output_type": "execute_result"
    }
   ],
   "source": [
    "np.concatenate((test_idx_cache, np.zeros((1, 9))), axis=0)"
   ]
  },
  {
   "cell_type": "code",
   "execution_count": null,
   "metadata": {},
   "outputs": [],
   "source": []
  }
 ],
 "metadata": {
  "kernelspec": {
   "display_name": "Python 3",
   "language": "python",
   "name": "python3"
  },
  "language_info": {
   "codemirror_mode": {
    "name": "ipython",
    "version": 3
   },
   "file_extension": ".py",
   "mimetype": "text/x-python",
   "name": "python",
   "nbconvert_exporter": "python",
   "pygments_lexer": "ipython3",
   "version": "3.7.4"
  }
 },
 "nbformat": 4,
 "nbformat_minor": 4
}
