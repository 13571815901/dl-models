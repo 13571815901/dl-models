{
 "cells": [
  {
   "cell_type": "code",
   "execution_count": 2,
   "metadata": {},
   "outputs": [],
   "source": [
    "import torch # pytorch\n",
    "import numpy as np\n",
    "import pandas as pd"
   ]
  },
  {
   "cell_type": "code",
   "execution_count": 2,
   "metadata": {},
   "outputs": [],
   "source": [
    "x = torch.rand(4, 4)"
   ]
  },
  {
   "cell_type": "code",
   "execution_count": 3,
   "metadata": {},
   "outputs": [
    {
     "name": "stdout",
     "output_type": "stream",
     "text": [
      "\n",
      " 0.7314  0.6649  0.1999  0.2093\n",
      " 0.2327  0.8479  0.8883  0.5416\n",
      " 0.6623  0.5208  0.8937  0.5167\n",
      " 0.9389  0.6619  0.1746  0.8430\n",
      "[torch.FloatTensor of size 4x4]\n",
      "\n"
     ]
    }
   ],
   "source": [
    "print(x)"
   ]
  },
  {
   "cell_type": "code",
   "execution_count": 4,
   "metadata": {},
   "outputs": [],
   "source": [
    "y = x.view(-1, 8)"
   ]
  },
  {
   "cell_type": "code",
   "execution_count": 5,
   "metadata": {},
   "outputs": [
    {
     "name": "stdout",
     "output_type": "stream",
     "text": [
      "\n",
      " 0.7314  0.6649  0.1999  0.2093  0.2327  0.8479  0.8883  0.5416\n",
      " 0.6623  0.5208  0.8937  0.5167  0.9389  0.6619  0.1746  0.8430\n",
      "[torch.FloatTensor of size 2x8]\n",
      "\n"
     ]
    }
   ],
   "source": [
    "print(y)"
   ]
  },
  {
   "cell_type": "code",
   "execution_count": 9,
   "metadata": {},
   "outputs": [],
   "source": [
    "z = x.view(8, -1)"
   ]
  },
  {
   "cell_type": "code",
   "execution_count": 10,
   "metadata": {},
   "outputs": [
    {
     "name": "stdout",
     "output_type": "stream",
     "text": [
      "\n",
      " 0.7314  0.6649\n",
      " 0.1999  0.2093\n",
      " 0.2327  0.8479\n",
      " 0.8883  0.5416\n",
      " 0.6623  0.5208\n",
      " 0.8937  0.5167\n",
      " 0.9389  0.6619\n",
      " 0.1746  0.8430\n",
      "[torch.FloatTensor of size 8x2]\n",
      "\n"
     ]
    }
   ],
   "source": [
    "print(z)"
   ]
  },
  {
   "cell_type": "code",
   "execution_count": 13,
   "metadata": {},
   "outputs": [
    {
     "name": "stdout",
     "output_type": "stream",
     "text": [
      "\n",
      " 0.6649\n",
      " 0.2093\n",
      " 0.8479\n",
      " 0.5416\n",
      " 0.5208\n",
      " 0.5167\n",
      " 0.6619\n",
      " 0.8430\n",
      "[torch.FloatTensor of size 8]\n",
      "\n"
     ]
    }
   ],
   "source": [
    "print(z[:, 1])"
   ]
  },
  {
   "cell_type": "code",
   "execution_count": 14,
   "metadata": {},
   "outputs": [
    {
     "name": "stdout",
     "output_type": "stream",
     "text": [
      "[[0.73136836 0.664861   0.19985789 0.20925856]\n",
      " [0.2327025  0.8479016  0.88832366 0.5416304 ]\n",
      " [0.6623129  0.52077496 0.8936885  0.51671296]\n",
      " [0.93889314 0.6619363  0.17463416 0.8429976 ]]\n"
     ]
    }
   ],
   "source": [
    "a = x.numpy()\n",
    "print(a)"
   ]
  },
  {
   "cell_type": "code",
   "execution_count": 17,
   "metadata": {},
   "outputs": [
    {
     "name": "stdout",
     "output_type": "stream",
     "text": [
      "\n",
      " 1.0000  1.0816  1.1633  1.2449  1.3265  1.4082  1.4898  1.5714  1.6531  1.7347\n",
      " 1.8163  1.8980  1.9796  2.0612  2.1429  2.2245  2.3061  2.3878  2.4694  2.5510\n",
      " 2.6327  2.7143  2.7959  2.8776  2.9592  3.0408  3.1224  3.2041  3.2857  3.3673\n",
      " 3.4490  3.5306  3.6122  3.6939  3.7755  3.8571  3.9388  4.0204  4.1020  4.1837\n",
      " 4.2653  4.3469  4.4286  4.5102  4.5918  4.6735  4.7551  4.8367  4.9184  5.0000\n",
      "[torch.DoubleTensor of size 5x10]\n",
      "\n"
     ]
    }
   ],
   "source": [
    "b = np.linspace(1, 5)\n",
    "tensor_b = torch.from_numpy(b)\n",
    "print(tensor_b.view(5, -1))"
   ]
  },
  {
   "cell_type": "code",
   "execution_count": 3,
   "metadata": {},
   "outputs": [],
   "source": [
    "DATASETS = \"peptide_caps_net.csv\"\n",
    "df = pd.read_csv(DATASETS)"
   ]
  },
  {
   "cell_type": "code",
   "execution_count": 4,
   "metadata": {},
   "outputs": [],
   "source": [
    "labels = df.values[:, 0].astype(np.int32)  # 第一列为分类标注名称\n",
    "features = df.values[:, 2:].astype(np.int32)"
   ]
  },
  {
   "cell_type": "code",
   "execution_count": 5,
   "metadata": {},
   "outputs": [
    {
     "data": {
      "text/plain": [
       "array([2, 2, 2, ..., 1, 1, 1], dtype=int32)"
      ]
     },
     "execution_count": 5,
     "metadata": {},
     "output_type": "execute_result"
    }
   ],
   "source": [
    "labels"
   ]
  },
  {
   "cell_type": "code",
   "execution_count": 6,
   "metadata": {},
   "outputs": [],
   "source": [
    "t_labels = torch.from_numpy(labels)\n",
    "t_features = torch.from_numpy(features).contiguous().view(-1, 20, 20) # 返回一个内存连续的有相同数据的tensor，否则无法做reshape"
   ]
  },
  {
   "cell_type": "code",
   "execution_count": 11,
   "metadata": {},
   "outputs": [
    {
     "name": "stdout",
     "output_type": "stream",
     "text": [
      "torch.Size([6094, 20, 20])\n",
      "torch.Size([6094])\n",
      "<class 'torch.IntTensor'>\n",
      "<class 'torch.IntTensor'>\n",
      "\n",
      " 2\n",
      " 2\n",
      "[torch.IntTensor of size 2]\n",
      "\n"
     ]
    }
   ],
   "source": [
    "print(t_features.size())\n",
    "print(t_labels.size())\n",
    "print(type(t_labels))\n",
    "print(type(t_features))\n",
    "print(t_labels[1:3])"
   ]
  },
  {
   "cell_type": "code",
   "execution_count": null,
   "metadata": {},
   "outputs": [],
   "source": []
  }
 ],
 "metadata": {
  "kernelspec": {
   "display_name": "Python 3",
   "language": "python",
   "name": "python3"
  },
  "language_info": {
   "codemirror_mode": {
    "name": "ipython",
    "version": 3
   },
   "file_extension": ".py",
   "mimetype": "text/x-python",
   "name": "python",
   "nbconvert_exporter": "python",
   "pygments_lexer": "ipython3",
   "version": "3.6.3"
  }
 },
 "nbformat": 4,
 "nbformat_minor": 2
}
