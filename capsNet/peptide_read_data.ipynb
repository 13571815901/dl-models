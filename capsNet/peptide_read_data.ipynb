{
 "cells": [
  {
   "cell_type": "code",
   "execution_count": 1,
   "metadata": {},
   "outputs": [],
   "source": [
    "import numpy as np\n",
    "import pandas as pd"
   ]
  },
  {
   "cell_type": "code",
   "execution_count": 3,
   "metadata": {},
   "outputs": [],
   "source": [
    "df = pd.read_csv(\"d://datasets//peptide_caps_net.csv\", )"
   ]
  },
  {
   "cell_type": "code",
   "execution_count": 4,
   "metadata": {},
   "outputs": [
    {
     "name": "stdout",
     "output_type": "stream",
     "text": [
      "      Class Samples  f1  f2  f3  f4  f5  f6  f7  f8  ...   f391  f392  f393  \\\n",
      "0         2     NS1   0   0   0   0   0   0   0   0  ...      0     0     0   \n",
      "1         2    NS10   0   0   0   0   0   0   0   0  ...      0     0     0   \n",
      "2         2   NS100   1   0   0   0   0   0   0   0  ...      0     0     0   \n",
      "3         2  NS1000   0   0   0   0   0   0   0   0  ...      0     0     0   \n",
      "4         2  NS1001   0   0   0   0   0   0   0   0  ...      0     0     0   \n",
      "5         2  NS1002   0   0   0   0   0   0   0   1  ...      0     0     0   \n",
      "6         2  NS1003   0   0   0   0   1   0   0   0  ...      0     0     0   \n",
      "7         2  NS1004   0   0   0   0   0   0   0   0  ...      0     0     0   \n",
      "8         2  NS1005   0   0   0   0   0   0   0   0  ...      0     0     0   \n",
      "9         2  NS1006   0   0   0   0   0   0   0   0  ...      0     0     0   \n",
      "10        2  NS1007   0   0   0   0   0   0   0   0  ...      0     0     0   \n",
      "11        2  NS1008   0   1   0   0   0   0   0   0  ...      0     0     0   \n",
      "12        2  NS1009   0   0   0   0   0   0   0   0  ...      0     0     0   \n",
      "13        2   NS101   0   0   0   0   0   0   0   1  ...      0     0     0   \n",
      "14        2  NS1010   0   0   0   0   0   0   0   0  ...      0     0     0   \n",
      "15        2  NS1011   0   0   0   0   0   0   0   0  ...      0     1     0   \n",
      "16        2  NS1012   0   0   0   0   0   0   0   0  ...      0     1     0   \n",
      "17        2  NS1013   0   0   0   0   0   0   0   0  ...      0     0     0   \n",
      "18        2  NS1014   0   0   0   0   0   0   0   0  ...      0     0     0   \n",
      "19        2  NS1015   0   0   0   0   0   0   0   0  ...      0     0     0   \n",
      "20        2  NS1016   0   0   0   0   0   0   0   0  ...      0     0     0   \n",
      "21        2  NS1017   0   0   0   0   0   0   0   0  ...      0     0     0   \n",
      "22        2  NS1018   0   0   0   0   0   0   0   0  ...      1     0     0   \n",
      "23        2  NS1019   0   0   0   0   0   0   0   0  ...      0     0     0   \n",
      "24        2   NS102   1   0   0   0   0   0   0   0  ...      0     0     0   \n",
      "25        2  NS1020   0   0   0   0   0   0   0   1  ...      0     0     0   \n",
      "26        2  NS1021   0   0   0   0   0   0   0   0  ...      1     0     0   \n",
      "27        2  NS1022   1   0   0   0   0   0   0   0  ...      0     0     0   \n",
      "28        2  NS1023   0   0   0   0   0   0   0   0  ...      0     0     0   \n",
      "29        2  NS1024   0   0   0   0   0   0   0   0  ...      0     0     0   \n",
      "...     ...     ...  ..  ..  ..  ..  ..  ..  ..  ..  ...    ...   ...   ...   \n",
      "6064      1   PS972   0   0   0   0   1   0   0   0  ...      0     0     0   \n",
      "6065      1   PS973   0   0   0   0   0   0   0   0  ...      0     0     0   \n",
      "6066      1   PS974   0   1   0   0   0   0   0   0  ...      0     0     0   \n",
      "6067      1   PS975   1   0   0   0   0   0   0   0  ...      0     0     0   \n",
      "6068      1   PS976   0   0   0   0   0   0   0   0  ...      0     0     0   \n",
      "6069      1   PS977   0   0   0   0   0   0   0   1  ...      0     0     0   \n",
      "6070      1   PS978   0   0   0   0   0   0   0   0  ...      0     0     0   \n",
      "6071      1   PS979   0   0   0   0   0   0   0   0  ...      0     0     0   \n",
      "6072      1    PS98   0   0   0   0   0   0   0   0  ...      0     0     0   \n",
      "6073      1   PS980   0   0   0   0   0   0   0   0  ...      0     0     0   \n",
      "6074      1   PS981   0   1   0   0   0   0   0   0  ...      1     0     0   \n",
      "6075      1   PS982   1   0   0   0   0   0   0   0  ...      0     0     0   \n",
      "6076      1   PS983   0   0   0   0   0   0   0   0  ...      0     0     0   \n",
      "6077      1   PS984   0   0   0   0   0   0   0   0  ...      0     0     0   \n",
      "6078      1   PS985   0   0   0   0   1   0   0   0  ...      0     0     0   \n",
      "6079      1   PS986   0   1   0   0   0   0   0   0  ...      0     0     0   \n",
      "6080      1   PS987   1   0   0   0   0   0   0   0  ...      0     0     0   \n",
      "6081      1   PS988   0   0   0   0   0   1   0   0  ...      0     1     0   \n",
      "6082      1   PS989   1   0   0   0   0   0   0   0  ...      0     0     0   \n",
      "6083      1    PS99   0   0   0   0   0   0   0   0  ...      0     0     0   \n",
      "6084      1   PS990   0   0   0   0   0   0   0   0  ...      0     0     0   \n",
      "6085      1   PS991   0   1   0   0   0   0   0   0  ...      0     1     0   \n",
      "6086      1   PS992   0   0   0   0   0   0   0   0  ...      0     0     0   \n",
      "6087      1   PS993   0   0   0   0   0   0   0   0  ...      0     0     0   \n",
      "6088      1   PS994   0   0   0   0   0   0   0   0  ...      0     0     0   \n",
      "6089      1   PS995   0   0   0   0   0   0   0   0  ...      0     0     0   \n",
      "6090      1   PS996   0   1   0   0   0   0   0   0  ...      0     0     0   \n",
      "6091      1   PS997   0   1   0   0   0   0   0   0  ...      0     0     0   \n",
      "6092      1   PS998   0   0   0   0   1   0   0   0  ...      0     0     0   \n",
      "6093      1   PS999   0   0   0   0   0   0   0   0  ...      0     0     0   \n",
      "\n",
      "      f394  f395  f396  f397  f398  f399  f400  \n",
      "0        0     0     0     0     0     0     0  \n",
      "1        0     0     0     0     0     0     0  \n",
      "2        0     0     0     0     0     0     0  \n",
      "3        0     0     0     0     0     0     0  \n",
      "4        0     0     0     0     0     0     0  \n",
      "5        0     0     0     0     0     0     1  \n",
      "6        0     0     0     0     0     0     0  \n",
      "7        0     0     0     0     0     0     0  \n",
      "8        0     0     0     0     0     0     0  \n",
      "9        0     0     1     0     0     0     0  \n",
      "10       0     0     1     0     0     0     0  \n",
      "11       0     0     1     0     0     0     0  \n",
      "12       0     0     0     0     0     0     0  \n",
      "13       0     0     1     0     0     0     0  \n",
      "14       0     0     1     0     0     0     0  \n",
      "15       0     0     0     0     0     0     0  \n",
      "16       0     0     0     0     0     0     0  \n",
      "17       0     0     0     0     0     0     0  \n",
      "18       0     1     0     0     0     0     0  \n",
      "19       0     0     0     0     0     0     0  \n",
      "20       1     0     0     0     0     0     0  \n",
      "21       0     0     0     0     0     0     0  \n",
      "22       0     0     0     0     0     0     0  \n",
      "23       0     0     0     0     0     0     0  \n",
      "24       0     0     0     0     0     0     0  \n",
      "25       0     0     0     0     0     0     0  \n",
      "26       0     0     0     0     0     0     0  \n",
      "27       0     0     0     0     0     0     0  \n",
      "28       0     0     0     0     0     0     0  \n",
      "29       0     0     0     0     0     0     0  \n",
      "...    ...   ...   ...   ...   ...   ...   ...  \n",
      "6064     0     1     0     0     0     0     0  \n",
      "6065     0     0     0     0     1     0     0  \n",
      "6066     0     0     0     0     0     0     0  \n",
      "6067     0     0     1     0     0     0     0  \n",
      "6068     0     0     0     0     0     0     0  \n",
      "6069     0     0     1     0     0     0     0  \n",
      "6070     0     0     0     0     0     0     0  \n",
      "6071     0     0     0     0     0     0     0  \n",
      "6072     0     0     0     0     0     0     0  \n",
      "6073     0     0     0     0     0     0     0  \n",
      "6074     0     0     0     0     0     0     0  \n",
      "6075     0     0     0     0     1     0     0  \n",
      "6076     0     0     1     0     0     0     0  \n",
      "6077     0     0     1     0     0     0     0  \n",
      "6078     1     0     0     0     0     0     0  \n",
      "6079     1     0     0     0     0     0     0  \n",
      "6080     0     0     0     0     0     0     0  \n",
      "6081     0     0     0     0     0     0     0  \n",
      "6082     0     0     0     0     0     0     0  \n",
      "6083     0     0     0     0     0     0     0  \n",
      "6084     0     0     0     0     1     0     0  \n",
      "6085     0     0     0     0     0     0     0  \n",
      "6086     0     0     0     0     0     0     0  \n",
      "6087     0     0     0     0     1     0     0  \n",
      "6088     0     1     0     0     0     0     0  \n",
      "6089     0     0     0     0     0     0     0  \n",
      "6090     0     1     0     0     0     0     0  \n",
      "6091     0     1     0     0     0     0     0  \n",
      "6092     0     0     0     0     0     0     1  \n",
      "6093     0     0     0     0     0     0     0  \n",
      "\n",
      "[6094 rows x 402 columns]\n"
     ]
    }
   ],
   "source": [
    "print(df)"
   ]
  },
  {
   "cell_type": "code",
   "execution_count": 5,
   "metadata": {},
   "outputs": [
    {
     "name": "stdout",
     "output_type": "stream",
     "text": [
      "0       2\n",
      "1       2\n",
      "2       2\n",
      "3       2\n",
      "4       2\n",
      "5       2\n",
      "6       2\n",
      "7       2\n",
      "8       2\n",
      "9       2\n",
      "10      2\n",
      "11      2\n",
      "12      2\n",
      "13      2\n",
      "14      2\n",
      "15      2\n",
      "16      2\n",
      "17      2\n",
      "18      2\n",
      "19      2\n",
      "20      2\n",
      "21      2\n",
      "22      2\n",
      "23      2\n",
      "24      2\n",
      "25      2\n",
      "26      2\n",
      "27      2\n",
      "28      2\n",
      "29      2\n",
      "       ..\n",
      "6064    1\n",
      "6065    1\n",
      "6066    1\n",
      "6067    1\n",
      "6068    1\n",
      "6069    1\n",
      "6070    1\n",
      "6071    1\n",
      "6072    1\n",
      "6073    1\n",
      "6074    1\n",
      "6075    1\n",
      "6076    1\n",
      "6077    1\n",
      "6078    1\n",
      "6079    1\n",
      "6080    1\n",
      "6081    1\n",
      "6082    1\n",
      "6083    1\n",
      "6084    1\n",
      "6085    1\n",
      "6086    1\n",
      "6087    1\n",
      "6088    1\n",
      "6089    1\n",
      "6090    1\n",
      "6091    1\n",
      "6092    1\n",
      "6093    1\n",
      "Name: Class, Length: 6094, dtype: int64\n"
     ]
    }
   ],
   "source": [
    "print(df['Class'])"
   ]
  },
  {
   "cell_type": "code",
   "execution_count": 12,
   "metadata": {},
   "outputs": [
    {
     "name": "stdout",
     "output_type": "stream",
     "text": [
      "[2 2 2 ... 1 1 1]\n"
     ]
    }
   ],
   "source": [
    "print(df.values[:,0])"
   ]
  },
  {
   "cell_type": "code",
   "execution_count": 13,
   "metadata": {},
   "outputs": [],
   "source": [
    "labels = df.values[:,0]"
   ]
  },
  {
   "cell_type": "code",
   "execution_count": 14,
   "metadata": {},
   "outputs": [],
   "source": [
    "features = df.values[:,2:]"
   ]
  },
  {
   "cell_type": "code",
   "execution_count": 15,
   "metadata": {},
   "outputs": [
    {
     "name": "stdout",
     "output_type": "stream",
     "text": [
      "[[0 0 0 ... 0 0 0]\n",
      " [0 0 0 ... 0 0 0]\n",
      " [1 0 0 ... 0 0 0]\n",
      " ...\n",
      " [0 1 0 ... 0 0 0]\n",
      " [0 0 0 ... 0 0 1]\n",
      " [0 0 0 ... 0 0 0]]\n"
     ]
    }
   ],
   "source": [
    "print(features)"
   ]
  },
  {
   "cell_type": "code",
   "execution_count": 19,
   "metadata": {},
   "outputs": [
    {
     "data": {
      "text/plain": [
       "6094"
      ]
     },
     "execution_count": 19,
     "metadata": {},
     "output_type": "execute_result"
    }
   ],
   "source": [
    "features.shape[0]"
   ]
  },
  {
   "cell_type": "code",
   "execution_count": 20,
   "metadata": {},
   "outputs": [],
   "source": [
    "new_features = features.reshape((features.shape[0], 20, 20))"
   ]
  },
  {
   "cell_type": "code",
   "execution_count": 21,
   "metadata": {},
   "outputs": [
    {
     "data": {
      "text/plain": [
       "(6094, 20, 20)"
      ]
     },
     "execution_count": 21,
     "metadata": {},
     "output_type": "execute_result"
    }
   ],
   "source": [
    "new_features.shape"
   ]
  },
  {
   "cell_type": "code",
   "execution_count": 22,
   "metadata": {},
   "outputs": [
    {
     "data": {
      "text/plain": [
       "array([[0, 0, 0, 0, 0, 0, 0, 0, 0, 0, 1, 0, 0, 0, 0, 0, 0, 0, 0, 0],\n",
       "       [1, 0, 0, 0, 0, 0, 0, 0, 0, 0, 0, 0, 0, 0, 0, 0, 0, 0, 0, 0],\n",
       "       [0, 0, 0, 0, 0, 0, 0, 0, 0, 0, 0, 0, 0, 0, 1, 0, 0, 0, 0, 0],\n",
       "       [0, 0, 0, 0, 0, 1, 0, 0, 0, 0, 0, 0, 0, 0, 0, 0, 0, 0, 0, 0],\n",
       "       [0, 0, 0, 0, 0, 0, 0, 0, 0, 0, 1, 0, 0, 0, 0, 0, 0, 0, 0, 0],\n",
       "       [0, 0, 0, 0, 0, 0, 0, 0, 1, 0, 0, 0, 0, 0, 0, 0, 0, 0, 0, 0],\n",
       "       [0, 0, 0, 0, 0, 0, 0, 0, 0, 1, 0, 0, 0, 0, 0, 0, 0, 0, 0, 0],\n",
       "       [1, 0, 0, 0, 0, 0, 0, 0, 0, 0, 0, 0, 0, 0, 0, 0, 0, 0, 0, 0],\n",
       "       [0, 1, 0, 0, 0, 0, 0, 0, 0, 0, 0, 0, 0, 0, 0, 0, 0, 0, 0, 0],\n",
       "       [0, 0, 0, 0, 0, 0, 0, 0, 0, 0, 0, 0, 0, 0, 0, 0, 0, 1, 0, 0],\n",
       "       [0, 0, 0, 0, 0, 0, 0, 0, 0, 0, 0, 0, 0, 0, 0, 0, 0, 1, 0, 0],\n",
       "       [0, 0, 0, 0, 0, 0, 0, 0, 0, 1, 0, 0, 0, 0, 0, 0, 0, 0, 0, 0],\n",
       "       [0, 0, 0, 0, 0, 0, 0, 0, 0, 0, 0, 0, 0, 0, 0, 0, 0, 1, 0, 0],\n",
       "       [0, 0, 0, 0, 0, 0, 0, 1, 0, 0, 0, 0, 0, 0, 0, 0, 0, 0, 0, 0],\n",
       "       [0, 1, 0, 0, 0, 0, 0, 0, 0, 0, 0, 0, 0, 0, 0, 0, 0, 0, 0, 0],\n",
       "       [0, 0, 0, 0, 0, 0, 0, 0, 0, 0, 1, 0, 0, 0, 0, 0, 0, 0, 0, 0],\n",
       "       [0, 0, 0, 0, 0, 0, 0, 0, 0, 0, 0, 0, 0, 0, 0, 0, 0, 1, 0, 0],\n",
       "       [0, 0, 0, 0, 0, 0, 0, 0, 0, 0, 0, 0, 0, 0, 0, 0, 0, 1, 0, 0],\n",
       "       [0, 0, 0, 0, 0, 0, 0, 1, 0, 0, 0, 0, 0, 0, 0, 0, 0, 0, 0, 0],\n",
       "       [1, 0, 0, 0, 0, 0, 0, 0, 0, 0, 0, 0, 0, 0, 0, 0, 0, 0, 0, 0]],\n",
       "      dtype=object)"
      ]
     },
     "execution_count": 22,
     "metadata": {},
     "output_type": "execute_result"
    }
   ],
   "source": [
    "new_features[0]"
   ]
  },
  {
   "cell_type": "code",
   "execution_count": 23,
   "metadata": {},
   "outputs": [
    {
     "data": {
      "text/plain": [
       "<function ndarray.sum>"
      ]
     },
     "execution_count": 23,
     "metadata": {},
     "output_type": "execute_result"
    }
   ],
   "source": [
    "features.sum"
   ]
  },
  {
   "cell_type": "code",
   "execution_count": 24,
   "metadata": {},
   "outputs": [],
   "source": [
    "dataset = (labels, new_features)"
   ]
  },
  {
   "cell_type": "code",
   "execution_count": 25,
   "metadata": {},
   "outputs": [
    {
     "ename": "AttributeError",
     "evalue": "'tuple' object has no attribute 'shape'",
     "output_type": "error",
     "traceback": [
      "\u001b[1;31m---------------------------------------------------------------------------\u001b[0m",
      "\u001b[1;31mAttributeError\u001b[0m                            Traceback (most recent call last)",
      "\u001b[1;32m<ipython-input-25-a62c974a6759>\u001b[0m in \u001b[0;36m<module>\u001b[1;34m()\u001b[0m\n\u001b[1;32m----> 1\u001b[1;33m \u001b[0mdataset\u001b[0m\u001b[1;33m.\u001b[0m\u001b[0mshape\u001b[0m\u001b[1;33m\u001b[0m\u001b[0m\n\u001b[0m",
      "\u001b[1;31mAttributeError\u001b[0m: 'tuple' object has no attribute 'shape'"
     ]
    }
   ],
   "source": [
    "dataset.shape"
   ]
  },
  {
   "cell_type": "code",
   "execution_count": 26,
   "metadata": {},
   "outputs": [
    {
     "data": {
      "text/plain": [
       "2"
      ]
     },
     "execution_count": 26,
     "metadata": {},
     "output_type": "execute_result"
    }
   ],
   "source": [
    "len(dataset)"
   ]
  },
  {
   "cell_type": "code",
   "execution_count": 27,
   "metadata": {},
   "outputs": [
    {
     "data": {
      "text/plain": [
       "<function tuple.count>"
      ]
     },
     "execution_count": 27,
     "metadata": {},
     "output_type": "execute_result"
    }
   ],
   "source": [
    "dataset.count"
   ]
  },
  {
   "cell_type": "code",
   "execution_count": null,
   "metadata": {},
   "outputs": [],
   "source": []
  }
 ],
 "metadata": {
  "kernelspec": {
   "display_name": "Python 3",
   "language": "python",
   "name": "python3"
  },
  "language_info": {
   "codemirror_mode": {
    "name": "ipython",
    "version": 3
   },
   "file_extension": ".py",
   "mimetype": "text/x-python",
   "name": "python",
   "nbconvert_exporter": "python",
   "pygments_lexer": "ipython3",
   "version": "3.6.4"
  }
 },
 "nbformat": 4,
 "nbformat_minor": 2
}
